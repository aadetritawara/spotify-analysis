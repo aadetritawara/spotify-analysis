{
 "cells": [
  {
   "cell_type": "markdown",
   "id": "31179c07-e2ab-442e-8544-f30c77c5bbd5",
   "metadata": {},
   "source": [
    "# Spotify Analysis"
   ]
  },
  {
   "cell_type": "markdown",
   "id": "aa216355-b749-4cd5-b1df-b7bebc788066",
   "metadata": {},
   "source": [
    "First we install the necessary libraries needed for data visualization and wrangling. Additionally, the R wrapper, Spotifyr, which allows us to get insights from Spotify's web api is installed as well. "
   ]
  },
  {
   "cell_type": "code",
   "execution_count": 33,
   "id": "9522c5c0-716d-4f0b-9369-12d11613e2e5",
   "metadata": {},
   "outputs": [],
   "source": [
    "library(tidyverse)\n",
    "library(spotifyr)\n",
    "library(repr)"
   ]
  },
  {
   "cell_type": "markdown",
   "id": "a6ff2fc5-43f1-433e-b4bb-3ea924ee4789",
   "metadata": {},
   "source": [
    "Below, we access the web API using the Client ID and Client Secret provided by Spotify upon creating a Developer Account."
   ]
  },
  {
   "cell_type": "code",
   "execution_count": 34,
   "id": "62cd9068-7378-4ec2-a33f-fd414b7d2f9f",
   "metadata": {},
   "outputs": [],
   "source": [
    "access_token <- get_spotify_access_token()"
   ]
  },
  {
   "cell_type": "markdown",
   "id": "2a2e92cf-9466-4888-8b7a-b4717873fd8e",
   "metadata": {},
   "source": [
    "### A Comparison Of My Playlists From Year 1 and Year 2 Of Undergrad\n",
    "I have attempted to capture each year of my undergraduate degree in a unique playlist. So far, I have one and a half years' worth of data. I will begin my analysis using a playlist I began creating in the fall of 2022, my first year of university. I am interested in learning the general atmosphere of the playlist and how my music preference has changed throughout my first and second years of university. "
   ]
  },
  {
   "cell_type": "markdown",
   "id": "d00528b5-7ce7-4a95-9abd-8264f9769911",
   "metadata": {},
   "source": [
    "> While reading my playlist data, I realized that Spotify has a limit that only allows 100 items to be read at a time. Therefore, to add all 566 items of my playlist here, I set the offsets parameter to increment by 100 until it reaches 500. Then I map each of these offsets to the data frames of 100 tracks, starting from each offset value. Finally I combine all the separate data frames into a single data frame. "
   ]
  },
  {
   "cell_type": "code",
   "execution_count": 35,
   "id": "8a00d120-6d6c-434f-80bf-982b7dd605f1",
   "metadata": {},
   "outputs": [],
   "source": [
    "# Loading the playlist data frame into the \"playlist_2022\" variable\n",
    "\n",
    "playlist_id <- \"2cQLZcVSOLDfY03SY5DZrf\"\n",
    "offsets <- seq(0, 500, 100)\n",
    "\n",
    "# Mapping offsets\n",
    "playlist_tracks <- map(offsets, ~ get_playlist_tracks(playlist_id, limit = 100, offset = .x))\n",
    "\n",
    "# Combining the results into a single data frame\n",
    "playlist_2022 <- bind_rows(playlist_tracks) |> as_tibble()\n"
   ]
  },
  {
   "cell_type": "code",
   "execution_count": 36,
   "id": "38393aee-1389-4490-9559-a6cca22d0320",
   "metadata": {},
   "outputs": [
    {
     "data": {
      "text/html": [
       "<style>\n",
       ".list-inline {list-style: none; margin:0; padding: 0}\n",
       ".list-inline>li {display: inline-block}\n",
       ".list-inline>li:not(:last-child)::after {content: \"\\00b7\"; padding: 0 .5ex}\n",
       "</style>\n",
       "<ol class=list-inline><li>'added_at'</li><li>'is_local'</li><li>'primary_color'</li><li>'added_by.href'</li><li>'added_by.id'</li><li>'added_by.type'</li><li>'added_by.uri'</li><li>'added_by.external_urls.spotify'</li><li>'track.artists'</li><li>'track.available_markets'</li><li>'track.disc_number'</li><li>'track.duration_ms'</li><li>'track.episode'</li><li>'track.explicit'</li><li>'track.href'</li><li>'track.id'</li><li>'track.is_local'</li><li>'track.name'</li><li>'track.popularity'</li><li>'track.preview_url'</li><li>'track.track'</li><li>'track.track_number'</li><li>'track.type'</li><li>'track.uri'</li><li>'track.album.album_type'</li><li>'track.album.artists'</li><li>'track.album.available_markets'</li><li>'track.album.href'</li><li>'track.album.id'</li><li>'track.album.images'</li><li>'track.album.name'</li><li>'track.album.release_date'</li><li>'track.album.release_date_precision'</li><li>'track.album.total_tracks'</li><li>'track.album.type'</li><li>'track.album.uri'</li><li>'track.album.external_urls.spotify'</li><li>'track.external_ids.isrc'</li><li>'track.external_urls.spotify'</li><li>'video_thumbnail.url'</li></ol>\n"
      ],
      "text/latex": [
       "\\begin{enumerate*}\n",
       "\\item 'added\\_at'\n",
       "\\item 'is\\_local'\n",
       "\\item 'primary\\_color'\n",
       "\\item 'added\\_by.href'\n",
       "\\item 'added\\_by.id'\n",
       "\\item 'added\\_by.type'\n",
       "\\item 'added\\_by.uri'\n",
       "\\item 'added\\_by.external\\_urls.spotify'\n",
       "\\item 'track.artists'\n",
       "\\item 'track.available\\_markets'\n",
       "\\item 'track.disc\\_number'\n",
       "\\item 'track.duration\\_ms'\n",
       "\\item 'track.episode'\n",
       "\\item 'track.explicit'\n",
       "\\item 'track.href'\n",
       "\\item 'track.id'\n",
       "\\item 'track.is\\_local'\n",
       "\\item 'track.name'\n",
       "\\item 'track.popularity'\n",
       "\\item 'track.preview\\_url'\n",
       "\\item 'track.track'\n",
       "\\item 'track.track\\_number'\n",
       "\\item 'track.type'\n",
       "\\item 'track.uri'\n",
       "\\item 'track.album.album\\_type'\n",
       "\\item 'track.album.artists'\n",
       "\\item 'track.album.available\\_markets'\n",
       "\\item 'track.album.href'\n",
       "\\item 'track.album.id'\n",
       "\\item 'track.album.images'\n",
       "\\item 'track.album.name'\n",
       "\\item 'track.album.release\\_date'\n",
       "\\item 'track.album.release\\_date\\_precision'\n",
       "\\item 'track.album.total\\_tracks'\n",
       "\\item 'track.album.type'\n",
       "\\item 'track.album.uri'\n",
       "\\item 'track.album.external\\_urls.spotify'\n",
       "\\item 'track.external\\_ids.isrc'\n",
       "\\item 'track.external\\_urls.spotify'\n",
       "\\item 'video\\_thumbnail.url'\n",
       "\\end{enumerate*}\n"
      ],
      "text/markdown": [
       "1. 'added_at'\n",
       "2. 'is_local'\n",
       "3. 'primary_color'\n",
       "4. 'added_by.href'\n",
       "5. 'added_by.id'\n",
       "6. 'added_by.type'\n",
       "7. 'added_by.uri'\n",
       "8. 'added_by.external_urls.spotify'\n",
       "9. 'track.artists'\n",
       "10. 'track.available_markets'\n",
       "11. 'track.disc_number'\n",
       "12. 'track.duration_ms'\n",
       "13. 'track.episode'\n",
       "14. 'track.explicit'\n",
       "15. 'track.href'\n",
       "16. 'track.id'\n",
       "17. 'track.is_local'\n",
       "18. 'track.name'\n",
       "19. 'track.popularity'\n",
       "20. 'track.preview_url'\n",
       "21. 'track.track'\n",
       "22. 'track.track_number'\n",
       "23. 'track.type'\n",
       "24. 'track.uri'\n",
       "25. 'track.album.album_type'\n",
       "26. 'track.album.artists'\n",
       "27. 'track.album.available_markets'\n",
       "28. 'track.album.href'\n",
       "29. 'track.album.id'\n",
       "30. 'track.album.images'\n",
       "31. 'track.album.name'\n",
       "32. 'track.album.release_date'\n",
       "33. 'track.album.release_date_precision'\n",
       "34. 'track.album.total_tracks'\n",
       "35. 'track.album.type'\n",
       "36. 'track.album.uri'\n",
       "37. 'track.album.external_urls.spotify'\n",
       "38. 'track.external_ids.isrc'\n",
       "39. 'track.external_urls.spotify'\n",
       "40. 'video_thumbnail.url'\n",
       "\n",
       "\n"
      ],
      "text/plain": [
       " [1] \"added_at\"                           \"is_local\"                          \n",
       " [3] \"primary_color\"                      \"added_by.href\"                     \n",
       " [5] \"added_by.id\"                        \"added_by.type\"                     \n",
       " [7] \"added_by.uri\"                       \"added_by.external_urls.spotify\"    \n",
       " [9] \"track.artists\"                      \"track.available_markets\"           \n",
       "[11] \"track.disc_number\"                  \"track.duration_ms\"                 \n",
       "[13] \"track.episode\"                      \"track.explicit\"                    \n",
       "[15] \"track.href\"                         \"track.id\"                          \n",
       "[17] \"track.is_local\"                     \"track.name\"                        \n",
       "[19] \"track.popularity\"                   \"track.preview_url\"                 \n",
       "[21] \"track.track\"                        \"track.track_number\"                \n",
       "[23] \"track.type\"                         \"track.uri\"                         \n",
       "[25] \"track.album.album_type\"             \"track.album.artists\"               \n",
       "[27] \"track.album.available_markets\"      \"track.album.href\"                  \n",
       "[29] \"track.album.id\"                     \"track.album.images\"                \n",
       "[31] \"track.album.name\"                   \"track.album.release_date\"          \n",
       "[33] \"track.album.release_date_precision\" \"track.album.total_tracks\"          \n",
       "[35] \"track.album.type\"                   \"track.album.uri\"                   \n",
       "[37] \"track.album.external_urls.spotify\"  \"track.external_ids.isrc\"           \n",
       "[39] \"track.external_urls.spotify\"        \"video_thumbnail.url\"               "
      ]
     },
     "metadata": {},
     "output_type": "display_data"
    }
   ],
   "source": [
    "# Getting all the column names of the data frame\n",
    "colnames(playlist_2022)"
   ]
  },
  {
   "cell_type": "markdown",
   "id": "3c42cca9-9043-4f81-971d-1c841cee7595",
   "metadata": {},
   "source": [
    "Based on the above columns, some interesting columns to analyze include: \n",
    "- 'added_at' - The date and time the song was added (NA is used if playlist is too old)\n",
    "- 'track.artists' - \n",
    "- 'track.duration_ms'\n",
    "- 'track.explicit'\n",
    "- 'track.name'\n",
    "- 'track.popularity'\n",
    "- 'track.album.album_type'\n",
    "- 'track.album.name'\n",
    "- 'track.album.release_date'"
   ]
  },
  {
   "cell_type": "code",
   "execution_count": 38,
   "id": "54095c6a-3e92-40aa-8b76-5e3d922f58c1",
   "metadata": {},
   "outputs": [
    {
     "data": {
      "text/html": [
       "<table class=\"dataframe\">\n",
       "<caption>A tibble: 6 × 9</caption>\n",
       "<thead>\n",
       "\t<tr><th scope=col>added_at</th><th scope=col>track.artists</th><th scope=col>track.duration_ms</th><th scope=col>track.explicit</th><th scope=col>track.name</th><th scope=col>track.popularity</th><th scope=col>track.album.album_type</th><th scope=col>track.album.name</th><th scope=col>track.album.release_date</th></tr>\n",
       "\t<tr><th scope=col>&lt;chr&gt;</th><th scope=col>&lt;list&gt;</th><th scope=col>&lt;int&gt;</th><th scope=col>&lt;lgl&gt;</th><th scope=col>&lt;chr&gt;</th><th scope=col>&lt;int&gt;</th><th scope=col>&lt;chr&gt;</th><th scope=col>&lt;chr&gt;</th><th scope=col>&lt;chr&gt;</th></tr>\n",
       "</thead>\n",
       "<tbody>\n",
       "\t<tr><td>2022-08-06T00:01:24Z</td><td>https://api.spotify.com/v1/artists/5GGJosGMs08YEmKTZJe1fL, 5GGJosGMs08YEmKTZJe1fL                                   , Suki Waterhouse                                          , artist                                                   , spotify:artist:5GGJosGMs08YEmKTZJe1fL                    , https://open.spotify.com/artist/5GGJosGMs08YEmKTZJe1fL   </td><td>214800</td><td>FALSE</td><td>Good Looking        </td><td> 1</td><td>single</td><td>Good Looking                 </td><td>2017-10-20</td></tr>\n",
       "\t<tr><td>2022-08-06T00:04:37Z</td><td>https://api.spotify.com/v1/artists/5ZsFI1h6hIdQRw2ti0hz81, 5ZsFI1h6hIdQRw2ti0hz81                                   , ZAYN                                                     , artist                                                   , spotify:artist:5ZsFI1h6hIdQRw2ti0hz81                    , https://open.spotify.com/artist/5ZsFI1h6hIdQRw2ti0hz81   </td><td>202213</td><td>FALSE</td><td>fOoL fOr YoU        </td><td>65</td><td>album </td><td>Mind Of Mine (Deluxe Edition)</td><td>2016-03-25</td></tr>\n",
       "\t<tr><td>2022-08-06T00:17:48Z</td><td>https://api.spotify.com/v1/artists/2kxP07DLgs4xlWz8YHlvfh, 2kxP07DLgs4xlWz8YHlvfh                                   , NIKI                                                     , artist                                                   , spotify:artist:2kxP07DLgs4xlWz8YHlvfh                    , https://open.spotify.com/artist/2kxP07DLgs4xlWz8YHlvfh   </td><td>215686</td><td>FALSE</td><td>Every Summertime    </td><td>77</td><td>single</td><td>Every Summertime             </td><td>2021-08-10</td></tr>\n",
       "\t<tr><td>2022-08-06T00:18:07Z</td><td>https://api.spotify.com/v1/artists/6nxWCVXbOlEVRexSbLsTer, https://api.spotify.com/v1/artists/6xHUXzrfhFgnIv86EBR3Ml, 6nxWCVXbOlEVRexSbLsTer                                   , 6xHUXzrfhFgnIv86EBR3Ml                                   , Flume                                                    , kai                                                      , artist                                                   , artist                                                   , spotify:artist:6nxWCVXbOlEVRexSbLsTer                    , spotify:artist:6xHUXzrfhFgnIv86EBR3Ml                    , https://open.spotify.com/artist/6nxWCVXbOlEVRexSbLsTer   , https://open.spotify.com/artist/6xHUXzrfhFgnIv86EBR3Ml   </td><td>233337</td><td> TRUE</td><td>Never Be Like You   </td><td> 0</td><td>album </td><td>Skin                         </td><td>2016-05-27</td></tr>\n",
       "\t<tr><td>2022-08-06T00:26:55Z</td><td>https://api.spotify.com/v1/artists/3pc0bOVB5whxmD50W79wwO, 3pc0bOVB5whxmD50W79wwO                                   , keshi                                                    , artist                                                   , spotify:artist:3pc0bOVB5whxmD50W79wwO                    , https://open.spotify.com/artist/3pc0bOVB5whxmD50W79wwO   </td><td>164662</td><td> TRUE</td><td>SOMEBODY            </td><td>68</td><td>album </td><td>GABRIEL                      </td><td>2022-03-25</td></tr>\n",
       "\t<tr><td>2022-08-10T04:30:57Z</td><td>https://api.spotify.com/v1/artists/2joIhhX3Feq47H4QXVDOr3, 2joIhhX3Feq47H4QXVDOr3                                   , RINI                                                     , artist                                                   , spotify:artist:2joIhhX3Feq47H4QXVDOr3                    , https://open.spotify.com/artist/2joIhhX3Feq47H4QXVDOr3   </td><td>257000</td><td>FALSE</td><td>My Favourite Clothes</td><td>66</td><td>single</td><td>My Favourite Clothes         </td><td>2018-01-06</td></tr>\n",
       "</tbody>\n",
       "</table>\n"
      ],
      "text/latex": [
       "A tibble: 6 × 9\n",
       "\\begin{tabular}{lllllllll}\n",
       " added\\_at & track.artists & track.duration\\_ms & track.explicit & track.name & track.popularity & track.album.album\\_type & track.album.name & track.album.release\\_date\\\\\n",
       " <chr> & <list> & <int> & <lgl> & <chr> & <int> & <chr> & <chr> & <chr>\\\\\n",
       "\\hline\n",
       "\t 2022-08-06T00:01:24Z & https://api.spotify.com/v1/artists/5GGJosGMs08YEmKTZJe1fL, 5GGJosGMs08YEmKTZJe1fL                                   , Suki Waterhouse                                          , artist                                                   , spotify:artist:5GGJosGMs08YEmKTZJe1fL                    , https://open.spotify.com/artist/5GGJosGMs08YEmKTZJe1fL    & 214800 & FALSE & Good Looking         &  1 & single & Good Looking                  & 2017-10-20\\\\\n",
       "\t 2022-08-06T00:04:37Z & https://api.spotify.com/v1/artists/5ZsFI1h6hIdQRw2ti0hz81, 5ZsFI1h6hIdQRw2ti0hz81                                   , ZAYN                                                     , artist                                                   , spotify:artist:5ZsFI1h6hIdQRw2ti0hz81                    , https://open.spotify.com/artist/5ZsFI1h6hIdQRw2ti0hz81    & 202213 & FALSE & fOoL fOr YoU         & 65 & album  & Mind Of Mine (Deluxe Edition) & 2016-03-25\\\\\n",
       "\t 2022-08-06T00:17:48Z & https://api.spotify.com/v1/artists/2kxP07DLgs4xlWz8YHlvfh, 2kxP07DLgs4xlWz8YHlvfh                                   , NIKI                                                     , artist                                                   , spotify:artist:2kxP07DLgs4xlWz8YHlvfh                    , https://open.spotify.com/artist/2kxP07DLgs4xlWz8YHlvfh    & 215686 & FALSE & Every Summertime     & 77 & single & Every Summertime              & 2021-08-10\\\\\n",
       "\t 2022-08-06T00:18:07Z & https://api.spotify.com/v1/artists/6nxWCVXbOlEVRexSbLsTer, https://api.spotify.com/v1/artists/6xHUXzrfhFgnIv86EBR3Ml, 6nxWCVXbOlEVRexSbLsTer                                   , 6xHUXzrfhFgnIv86EBR3Ml                                   , Flume                                                    , kai                                                      , artist                                                   , artist                                                   , spotify:artist:6nxWCVXbOlEVRexSbLsTer                    , spotify:artist:6xHUXzrfhFgnIv86EBR3Ml                    , https://open.spotify.com/artist/6nxWCVXbOlEVRexSbLsTer   , https://open.spotify.com/artist/6xHUXzrfhFgnIv86EBR3Ml    & 233337 &  TRUE & Never Be Like You    &  0 & album  & Skin                          & 2016-05-27\\\\\n",
       "\t 2022-08-06T00:26:55Z & https://api.spotify.com/v1/artists/3pc0bOVB5whxmD50W79wwO, 3pc0bOVB5whxmD50W79wwO                                   , keshi                                                    , artist                                                   , spotify:artist:3pc0bOVB5whxmD50W79wwO                    , https://open.spotify.com/artist/3pc0bOVB5whxmD50W79wwO    & 164662 &  TRUE & SOMEBODY             & 68 & album  & GABRIEL                       & 2022-03-25\\\\\n",
       "\t 2022-08-10T04:30:57Z & https://api.spotify.com/v1/artists/2joIhhX3Feq47H4QXVDOr3, 2joIhhX3Feq47H4QXVDOr3                                   , RINI                                                     , artist                                                   , spotify:artist:2joIhhX3Feq47H4QXVDOr3                    , https://open.spotify.com/artist/2joIhhX3Feq47H4QXVDOr3    & 257000 & FALSE & My Favourite Clothes & 66 & single & My Favourite Clothes          & 2018-01-06\\\\\n",
       "\\end{tabular}\n"
      ],
      "text/markdown": [
       "\n",
       "A tibble: 6 × 9\n",
       "\n",
       "| added_at &lt;chr&gt; | track.artists &lt;list&gt; | track.duration_ms &lt;int&gt; | track.explicit &lt;lgl&gt; | track.name &lt;chr&gt; | track.popularity &lt;int&gt; | track.album.album_type &lt;chr&gt; | track.album.name &lt;chr&gt; | track.album.release_date &lt;chr&gt; |\n",
       "|---|---|---|---|---|---|---|---|---|\n",
       "| 2022-08-06T00:01:24Z | https://api.spotify.com/v1/artists/5GGJosGMs08YEmKTZJe1fL, 5GGJosGMs08YEmKTZJe1fL                                   , Suki Waterhouse                                          , artist                                                   , spotify:artist:5GGJosGMs08YEmKTZJe1fL                    , https://open.spotify.com/artist/5GGJosGMs08YEmKTZJe1fL    | 214800 | FALSE | Good Looking         |  1 | single | Good Looking                  | 2017-10-20 |\n",
       "| 2022-08-06T00:04:37Z | https://api.spotify.com/v1/artists/5ZsFI1h6hIdQRw2ti0hz81, 5ZsFI1h6hIdQRw2ti0hz81                                   , ZAYN                                                     , artist                                                   , spotify:artist:5ZsFI1h6hIdQRw2ti0hz81                    , https://open.spotify.com/artist/5ZsFI1h6hIdQRw2ti0hz81    | 202213 | FALSE | fOoL fOr YoU         | 65 | album  | Mind Of Mine (Deluxe Edition) | 2016-03-25 |\n",
       "| 2022-08-06T00:17:48Z | https://api.spotify.com/v1/artists/2kxP07DLgs4xlWz8YHlvfh, 2kxP07DLgs4xlWz8YHlvfh                                   , NIKI                                                     , artist                                                   , spotify:artist:2kxP07DLgs4xlWz8YHlvfh                    , https://open.spotify.com/artist/2kxP07DLgs4xlWz8YHlvfh    | 215686 | FALSE | Every Summertime     | 77 | single | Every Summertime              | 2021-08-10 |\n",
       "| 2022-08-06T00:18:07Z | https://api.spotify.com/v1/artists/6nxWCVXbOlEVRexSbLsTer, https://api.spotify.com/v1/artists/6xHUXzrfhFgnIv86EBR3Ml, 6nxWCVXbOlEVRexSbLsTer                                   , 6xHUXzrfhFgnIv86EBR3Ml                                   , Flume                                                    , kai                                                      , artist                                                   , artist                                                   , spotify:artist:6nxWCVXbOlEVRexSbLsTer                    , spotify:artist:6xHUXzrfhFgnIv86EBR3Ml                    , https://open.spotify.com/artist/6nxWCVXbOlEVRexSbLsTer   , https://open.spotify.com/artist/6xHUXzrfhFgnIv86EBR3Ml    | 233337 |  TRUE | Never Be Like You    |  0 | album  | Skin                          | 2016-05-27 |\n",
       "| 2022-08-06T00:26:55Z | https://api.spotify.com/v1/artists/3pc0bOVB5whxmD50W79wwO, 3pc0bOVB5whxmD50W79wwO                                   , keshi                                                    , artist                                                   , spotify:artist:3pc0bOVB5whxmD50W79wwO                    , https://open.spotify.com/artist/3pc0bOVB5whxmD50W79wwO    | 164662 |  TRUE | SOMEBODY             | 68 | album  | GABRIEL                       | 2022-03-25 |\n",
       "| 2022-08-10T04:30:57Z | https://api.spotify.com/v1/artists/2joIhhX3Feq47H4QXVDOr3, 2joIhhX3Feq47H4QXVDOr3                                   , RINI                                                     , artist                                                   , spotify:artist:2joIhhX3Feq47H4QXVDOr3                    , https://open.spotify.com/artist/2joIhhX3Feq47H4QXVDOr3    | 257000 | FALSE | My Favourite Clothes | 66 | single | My Favourite Clothes          | 2018-01-06 |\n",
       "\n"
      ],
      "text/plain": [
       "  added_at            \n",
       "1 2022-08-06T00:01:24Z\n",
       "2 2022-08-06T00:04:37Z\n",
       "3 2022-08-06T00:17:48Z\n",
       "4 2022-08-06T00:18:07Z\n",
       "5 2022-08-06T00:26:55Z\n",
       "6 2022-08-10T04:30:57Z\n",
       "  track.artists                                                                                                                                                                                                                                                                                                                                                                                                                                                                                                                                                                                                                                                                                                                     \n",
       "1 https://api.spotify.com/v1/artists/5GGJosGMs08YEmKTZJe1fL, 5GGJosGMs08YEmKTZJe1fL                                   , Suki Waterhouse                                          , artist                                                   , spotify:artist:5GGJosGMs08YEmKTZJe1fL                    , https://open.spotify.com/artist/5GGJosGMs08YEmKTZJe1fL                                                                                                                                                                                                                                                                                                                                                                     \n",
       "2 https://api.spotify.com/v1/artists/5ZsFI1h6hIdQRw2ti0hz81, 5ZsFI1h6hIdQRw2ti0hz81                                   , ZAYN                                                     , artist                                                   , spotify:artist:5ZsFI1h6hIdQRw2ti0hz81                    , https://open.spotify.com/artist/5ZsFI1h6hIdQRw2ti0hz81                                                                                                                                                                                                                                                                                                                                                                     \n",
       "3 https://api.spotify.com/v1/artists/2kxP07DLgs4xlWz8YHlvfh, 2kxP07DLgs4xlWz8YHlvfh                                   , NIKI                                                     , artist                                                   , spotify:artist:2kxP07DLgs4xlWz8YHlvfh                    , https://open.spotify.com/artist/2kxP07DLgs4xlWz8YHlvfh                                                                                                                                                                                                                                                                                                                                                                     \n",
       "4 https://api.spotify.com/v1/artists/6nxWCVXbOlEVRexSbLsTer, https://api.spotify.com/v1/artists/6xHUXzrfhFgnIv86EBR3Ml, 6nxWCVXbOlEVRexSbLsTer                                   , 6xHUXzrfhFgnIv86EBR3Ml                                   , Flume                                                    , kai                                                      , artist                                                   , artist                                                   , spotify:artist:6nxWCVXbOlEVRexSbLsTer                    , spotify:artist:6xHUXzrfhFgnIv86EBR3Ml                    , https://open.spotify.com/artist/6nxWCVXbOlEVRexSbLsTer   , https://open.spotify.com/artist/6xHUXzrfhFgnIv86EBR3Ml   \n",
       "5 https://api.spotify.com/v1/artists/3pc0bOVB5whxmD50W79wwO, 3pc0bOVB5whxmD50W79wwO                                   , keshi                                                    , artist                                                   , spotify:artist:3pc0bOVB5whxmD50W79wwO                    , https://open.spotify.com/artist/3pc0bOVB5whxmD50W79wwO                                                                                                                                                                                                                                                                                                                                                                     \n",
       "6 https://api.spotify.com/v1/artists/2joIhhX3Feq47H4QXVDOr3, 2joIhhX3Feq47H4QXVDOr3                                   , RINI                                                     , artist                                                   , spotify:artist:2joIhhX3Feq47H4QXVDOr3                    , https://open.spotify.com/artist/2joIhhX3Feq47H4QXVDOr3                                                                                                                                                                                                                                                                                                                                                                     \n",
       "  track.duration_ms track.explicit track.name           track.popularity\n",
       "1 214800            FALSE          Good Looking          1              \n",
       "2 202213            FALSE          fOoL fOr YoU         65              \n",
       "3 215686            FALSE          Every Summertime     77              \n",
       "4 233337             TRUE          Never Be Like You     0              \n",
       "5 164662             TRUE          SOMEBODY             68              \n",
       "6 257000            FALSE          My Favourite Clothes 66              \n",
       "  track.album.album_type track.album.name              track.album.release_date\n",
       "1 single                 Good Looking                  2017-10-20              \n",
       "2 album                  Mind Of Mine (Deluxe Edition) 2016-03-25              \n",
       "3 single                 Every Summertime              2021-08-10              \n",
       "4 album                  Skin                          2016-05-27              \n",
       "5 album                  GABRIEL                       2022-03-25              \n",
       "6 single                 My Favourite Clothes          2018-01-06              "
      ]
     },
     "metadata": {},
     "output_type": "display_data"
    }
   ],
   "source": [
    "# Selecting only the identified columns above\n",
    "shortened_playlist_2022 <- playlist_2022 |> select(added_at, track.artists, track.duration_ms, \n",
    "                                                  track.explicit, track.name, track.popularity, \n",
    "                                                  track.album.album_type, track.album.name, \n",
    "                                                  track.album.release_date)\n",
    "head(shortened_playlist_2022)"
   ]
  },
  {
   "cell_type": "code",
   "execution_count": null,
   "id": "4d97ebb5-6a2a-4735-91d2-dc15ee3fab4a",
   "metadata": {},
   "outputs": [],
   "source": []
  }
 ],
 "metadata": {
  "kernelspec": {
   "display_name": "R",
   "language": "R",
   "name": "ir"
  },
  "language_info": {
   "codemirror_mode": "r",
   "file_extension": ".r",
   "mimetype": "text/x-r-source",
   "name": "R",
   "pygments_lexer": "r",
   "version": "4.3.1"
  }
 },
 "nbformat": 4,
 "nbformat_minor": 5
}
