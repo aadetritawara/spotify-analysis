{
 "cells": [
  {
   "cell_type": "markdown",
   "id": "31179c07-e2ab-442e-8544-f30c77c5bbd5",
   "metadata": {},
   "source": [
    "# Spotify Analysis"
   ]
  },
  {
   "cell_type": "markdown",
   "id": "aa216355-b749-4cd5-b1df-b7bebc788066",
   "metadata": {},
   "source": [
    "First we install the necessary libraries needed for data visualization and wrangling. Additionally, the R wrapper, Spotifyr, which allows us to get insights from Spotify's web api is installed as well. "
   ]
  },
  {
   "cell_type": "code",
   "execution_count": 33,
   "id": "9522c5c0-716d-4f0b-9369-12d11613e2e5",
   "metadata": {},
   "outputs": [],
   "source": [
    "library(tidyverse)\n",
    "library(spotifyr)\n",
    "library(repr)"
   ]
  },
  {
   "cell_type": "markdown",
   "id": "a6ff2fc5-43f1-433e-b4bb-3ea924ee4789",
   "metadata": {},
   "source": [
    "Below, we access the web API using the Client ID and Client Secret provided by Spotify upon creating a Developer Account."
   ]
  },
  {
   "cell_type": "code",
   "execution_count": 34,
   "id": "62cd9068-7378-4ec2-a33f-fd414b7d2f9f",
   "metadata": {},
   "outputs": [],
   "source": [
    "access_token <- get_spotify_access_token()"
   ]
  },
  {
   "cell_type": "markdown",
   "id": "2a2e92cf-9466-4888-8b7a-b4717873fd8e",
   "metadata": {},
   "source": [
    "## A Comparison Of My Playlists From Year 1 and Year 2 Of Undergrad\n",
    "I have attempted to capture each year of my undergraduate degree in a unique playlist. So far, I have one and a half years' worth of data. I will begin my analysis using a playlist I began creating in the fall of 2022, my first year of university. I am interested in learning the general atmosphere of the playlist and how my music preference has changed throughout my first and second years of university. "
   ]
  },
  {
   "cell_type": "markdown",
   "id": "36811a19-ad69-4c09-abbb-1f49f7caccd4",
   "metadata": {},
   "source": [
    "### Data Loading & Cleaning"
   ]
  },
  {
   "cell_type": "markdown",
   "id": "d00528b5-7ce7-4a95-9abd-8264f9769911",
   "metadata": {},
   "source": [
    "> While reading my playlist data, I realized that Spotify has a limit that only allows 100 items to be read at a time. Therefore, to add all 566 items of my playlist here, I set the offsets parameter to increment by 100 until it reaches 500. Then I map each of these offsets to the data frames of 100 tracks, starting from each offset value. Finally I combine all the separate data frames into a single data frame. "
   ]
  },
  {
   "cell_type": "code",
   "execution_count": 57,
   "id": "8a00d120-6d6c-434f-80bf-982b7dd605f1",
   "metadata": {},
   "outputs": [],
   "source": [
    "# Loading the playlist data frame into the \"playlist_2022\" variable\n",
    "\n",
    "playlist_id <- \"2cQLZcVSOLDfY03SY5DZrf\"\n",
    "offsets <- seq(0, 500, 100)\n",
    "\n",
    "# Mapping offsets\n",
    "playlist_tracks <- map(offsets, ~ get_playlist_tracks(playlist_id, limit = 100, offset = .x))\n",
    "\n",
    "# Combining the results into a single data frame\n",
    "y1_playlist <- bind_rows(playlist_tracks) |> as_tibble()\n"
   ]
  },
  {
   "cell_type": "code",
   "execution_count": 58,
   "id": "38393aee-1389-4490-9559-a6cca22d0320",
   "metadata": {},
   "outputs": [
    {
     "data": {
      "text/html": [
       "<style>\n",
       ".list-inline {list-style: none; margin:0; padding: 0}\n",
       ".list-inline>li {display: inline-block}\n",
       ".list-inline>li:not(:last-child)::after {content: \"\\00b7\"; padding: 0 .5ex}\n",
       "</style>\n",
       "<ol class=list-inline><li>'added_at'</li><li>'is_local'</li><li>'primary_color'</li><li>'added_by.href'</li><li>'added_by.id'</li><li>'added_by.type'</li><li>'added_by.uri'</li><li>'added_by.external_urls.spotify'</li><li>'track.artists'</li><li>'track.available_markets'</li><li>'track.disc_number'</li><li>'track.duration_ms'</li><li>'track.episode'</li><li>'track.explicit'</li><li>'track.href'</li><li>'track.id'</li><li>'track.is_local'</li><li>'track.name'</li><li>'track.popularity'</li><li>'track.preview_url'</li><li>'track.track'</li><li>'track.track_number'</li><li>'track.type'</li><li>'track.uri'</li><li>'track.album.album_type'</li><li>'track.album.artists'</li><li>'track.album.available_markets'</li><li>'track.album.href'</li><li>'track.album.id'</li><li>'track.album.images'</li><li>'track.album.name'</li><li>'track.album.release_date'</li><li>'track.album.release_date_precision'</li><li>'track.album.total_tracks'</li><li>'track.album.type'</li><li>'track.album.uri'</li><li>'track.album.external_urls.spotify'</li><li>'track.external_ids.isrc'</li><li>'track.external_urls.spotify'</li><li>'video_thumbnail.url'</li></ol>\n"
      ],
      "text/latex": [
       "\\begin{enumerate*}\n",
       "\\item 'added\\_at'\n",
       "\\item 'is\\_local'\n",
       "\\item 'primary\\_color'\n",
       "\\item 'added\\_by.href'\n",
       "\\item 'added\\_by.id'\n",
       "\\item 'added\\_by.type'\n",
       "\\item 'added\\_by.uri'\n",
       "\\item 'added\\_by.external\\_urls.spotify'\n",
       "\\item 'track.artists'\n",
       "\\item 'track.available\\_markets'\n",
       "\\item 'track.disc\\_number'\n",
       "\\item 'track.duration\\_ms'\n",
       "\\item 'track.episode'\n",
       "\\item 'track.explicit'\n",
       "\\item 'track.href'\n",
       "\\item 'track.id'\n",
       "\\item 'track.is\\_local'\n",
       "\\item 'track.name'\n",
       "\\item 'track.popularity'\n",
       "\\item 'track.preview\\_url'\n",
       "\\item 'track.track'\n",
       "\\item 'track.track\\_number'\n",
       "\\item 'track.type'\n",
       "\\item 'track.uri'\n",
       "\\item 'track.album.album\\_type'\n",
       "\\item 'track.album.artists'\n",
       "\\item 'track.album.available\\_markets'\n",
       "\\item 'track.album.href'\n",
       "\\item 'track.album.id'\n",
       "\\item 'track.album.images'\n",
       "\\item 'track.album.name'\n",
       "\\item 'track.album.release\\_date'\n",
       "\\item 'track.album.release\\_date\\_precision'\n",
       "\\item 'track.album.total\\_tracks'\n",
       "\\item 'track.album.type'\n",
       "\\item 'track.album.uri'\n",
       "\\item 'track.album.external\\_urls.spotify'\n",
       "\\item 'track.external\\_ids.isrc'\n",
       "\\item 'track.external\\_urls.spotify'\n",
       "\\item 'video\\_thumbnail.url'\n",
       "\\end{enumerate*}\n"
      ],
      "text/markdown": [
       "1. 'added_at'\n",
       "2. 'is_local'\n",
       "3. 'primary_color'\n",
       "4. 'added_by.href'\n",
       "5. 'added_by.id'\n",
       "6. 'added_by.type'\n",
       "7. 'added_by.uri'\n",
       "8. 'added_by.external_urls.spotify'\n",
       "9. 'track.artists'\n",
       "10. 'track.available_markets'\n",
       "11. 'track.disc_number'\n",
       "12. 'track.duration_ms'\n",
       "13. 'track.episode'\n",
       "14. 'track.explicit'\n",
       "15. 'track.href'\n",
       "16. 'track.id'\n",
       "17. 'track.is_local'\n",
       "18. 'track.name'\n",
       "19. 'track.popularity'\n",
       "20. 'track.preview_url'\n",
       "21. 'track.track'\n",
       "22. 'track.track_number'\n",
       "23. 'track.type'\n",
       "24. 'track.uri'\n",
       "25. 'track.album.album_type'\n",
       "26. 'track.album.artists'\n",
       "27. 'track.album.available_markets'\n",
       "28. 'track.album.href'\n",
       "29. 'track.album.id'\n",
       "30. 'track.album.images'\n",
       "31. 'track.album.name'\n",
       "32. 'track.album.release_date'\n",
       "33. 'track.album.release_date_precision'\n",
       "34. 'track.album.total_tracks'\n",
       "35. 'track.album.type'\n",
       "36. 'track.album.uri'\n",
       "37. 'track.album.external_urls.spotify'\n",
       "38. 'track.external_ids.isrc'\n",
       "39. 'track.external_urls.spotify'\n",
       "40. 'video_thumbnail.url'\n",
       "\n",
       "\n"
      ],
      "text/plain": [
       " [1] \"added_at\"                           \"is_local\"                          \n",
       " [3] \"primary_color\"                      \"added_by.href\"                     \n",
       " [5] \"added_by.id\"                        \"added_by.type\"                     \n",
       " [7] \"added_by.uri\"                       \"added_by.external_urls.spotify\"    \n",
       " [9] \"track.artists\"                      \"track.available_markets\"           \n",
       "[11] \"track.disc_number\"                  \"track.duration_ms\"                 \n",
       "[13] \"track.episode\"                      \"track.explicit\"                    \n",
       "[15] \"track.href\"                         \"track.id\"                          \n",
       "[17] \"track.is_local\"                     \"track.name\"                        \n",
       "[19] \"track.popularity\"                   \"track.preview_url\"                 \n",
       "[21] \"track.track\"                        \"track.track_number\"                \n",
       "[23] \"track.type\"                         \"track.uri\"                         \n",
       "[25] \"track.album.album_type\"             \"track.album.artists\"               \n",
       "[27] \"track.album.available_markets\"      \"track.album.href\"                  \n",
       "[29] \"track.album.id\"                     \"track.album.images\"                \n",
       "[31] \"track.album.name\"                   \"track.album.release_date\"          \n",
       "[33] \"track.album.release_date_precision\" \"track.album.total_tracks\"          \n",
       "[35] \"track.album.type\"                   \"track.album.uri\"                   \n",
       "[37] \"track.album.external_urls.spotify\"  \"track.external_ids.isrc\"           \n",
       "[39] \"track.external_urls.spotify\"        \"video_thumbnail.url\"               "
      ]
     },
     "metadata": {},
     "output_type": "display_data"
    }
   ],
   "source": [
    "# Getting all the column names of the data frame\n",
    "colnames(y1_playlist)"
   ]
  },
  {
   "cell_type": "markdown",
   "id": "3c42cca9-9043-4f81-971d-1c841cee7595",
   "metadata": {},
   "source": [
    "Based on the above columns, some interesting columns to analyze include: \n",
    "- 'added_at' - The date and time the song was added (NA is used if playlist is too old)\n",
    "- 'track.artists' - \n",
    "- 'track.duration_ms'\n",
    "- 'track.explicit'\n",
    "- 'track.name'\n",
    "- 'track.popularity'\n",
    "- 'track.album.album_type'\n",
    "- 'track.album.name'\n",
    "- 'track.album.release_date'"
   ]
  },
  {
   "cell_type": "code",
   "execution_count": 81,
   "id": "54095c6a-3e92-40aa-8b76-5e3d922f58c1",
   "metadata": {
    "scrolled": true
   },
   "outputs": [
    {
     "data": {
      "text/html": [
       "<style>\n",
       ".list-inline {list-style: none; margin:0; padding: 0}\n",
       ".list-inline>li {display: inline-block}\n",
       ".list-inline>li:not(:last-child)::after {content: \"\\00b7\"; padding: 0 .5ex}\n",
       "</style>\n",
       "<ol class=list-inline><li>567</li><li>9</li></ol>\n"
      ],
      "text/latex": [
       "\\begin{enumerate*}\n",
       "\\item 567\n",
       "\\item 9\n",
       "\\end{enumerate*}\n"
      ],
      "text/markdown": [
       "1. 567\n",
       "2. 9\n",
       "\n",
       "\n"
      ],
      "text/plain": [
       "[1] 567   9"
      ]
     },
     "metadata": {},
     "output_type": "display_data"
    },
    {
     "data": {
      "text/html": [
       "<table class=\"dataframe\">\n",
       "<caption>A tibble: 6 × 9</caption>\n",
       "<thead>\n",
       "\t<tr><th scope=col>added_at</th><th scope=col>track.artists</th><th scope=col>track.duration_ms</th><th scope=col>track.explicit</th><th scope=col>track.name</th><th scope=col>track.popularity</th><th scope=col>track.album.album_type</th><th scope=col>track.album.name</th><th scope=col>track.album.release_date</th></tr>\n",
       "\t<tr><th scope=col>&lt;chr&gt;</th><th scope=col>&lt;list&gt;</th><th scope=col>&lt;int&gt;</th><th scope=col>&lt;lgl&gt;</th><th scope=col>&lt;chr&gt;</th><th scope=col>&lt;int&gt;</th><th scope=col>&lt;chr&gt;</th><th scope=col>&lt;chr&gt;</th><th scope=col>&lt;chr&gt;</th></tr>\n",
       "</thead>\n",
       "<tbody>\n",
       "\t<tr><td>2022-08-06T00:01:24Z</td><td>https://api.spotify.com/v1/artists/5GGJosGMs08YEmKTZJe1fL, 5GGJosGMs08YEmKTZJe1fL                                   , Suki Waterhouse                                          , artist                                                   , spotify:artist:5GGJosGMs08YEmKTZJe1fL                    , https://open.spotify.com/artist/5GGJosGMs08YEmKTZJe1fL   </td><td>214800</td><td>FALSE</td><td>Good Looking        </td><td> 1</td><td>single</td><td>Good Looking                 </td><td>2017-10-20</td></tr>\n",
       "\t<tr><td>2022-08-06T00:04:37Z</td><td>https://api.spotify.com/v1/artists/5ZsFI1h6hIdQRw2ti0hz81, 5ZsFI1h6hIdQRw2ti0hz81                                   , ZAYN                                                     , artist                                                   , spotify:artist:5ZsFI1h6hIdQRw2ti0hz81                    , https://open.spotify.com/artist/5ZsFI1h6hIdQRw2ti0hz81   </td><td>202213</td><td>FALSE</td><td>fOoL fOr YoU        </td><td>65</td><td>album </td><td>Mind Of Mine (Deluxe Edition)</td><td>2016-03-25</td></tr>\n",
       "\t<tr><td>2022-08-06T00:17:48Z</td><td>https://api.spotify.com/v1/artists/2kxP07DLgs4xlWz8YHlvfh, 2kxP07DLgs4xlWz8YHlvfh                                   , NIKI                                                     , artist                                                   , spotify:artist:2kxP07DLgs4xlWz8YHlvfh                    , https://open.spotify.com/artist/2kxP07DLgs4xlWz8YHlvfh   </td><td>215686</td><td>FALSE</td><td>Every Summertime    </td><td>77</td><td>single</td><td>Every Summertime             </td><td>2021-08-10</td></tr>\n",
       "\t<tr><td>2022-08-06T00:18:07Z</td><td>https://api.spotify.com/v1/artists/6nxWCVXbOlEVRexSbLsTer, https://api.spotify.com/v1/artists/6xHUXzrfhFgnIv86EBR3Ml, 6nxWCVXbOlEVRexSbLsTer                                   , 6xHUXzrfhFgnIv86EBR3Ml                                   , Flume                                                    , kai                                                      , artist                                                   , artist                                                   , spotify:artist:6nxWCVXbOlEVRexSbLsTer                    , spotify:artist:6xHUXzrfhFgnIv86EBR3Ml                    , https://open.spotify.com/artist/6nxWCVXbOlEVRexSbLsTer   , https://open.spotify.com/artist/6xHUXzrfhFgnIv86EBR3Ml   </td><td>233337</td><td> TRUE</td><td>Never Be Like You   </td><td> 0</td><td>album </td><td>Skin                         </td><td>2016-05-27</td></tr>\n",
       "\t<tr><td>2022-08-06T00:26:55Z</td><td>https://api.spotify.com/v1/artists/3pc0bOVB5whxmD50W79wwO, 3pc0bOVB5whxmD50W79wwO                                   , keshi                                                    , artist                                                   , spotify:artist:3pc0bOVB5whxmD50W79wwO                    , https://open.spotify.com/artist/3pc0bOVB5whxmD50W79wwO   </td><td>164662</td><td> TRUE</td><td>SOMEBODY            </td><td>68</td><td>album </td><td>GABRIEL                      </td><td>2022-03-25</td></tr>\n",
       "\t<tr><td>2022-08-10T04:30:57Z</td><td>https://api.spotify.com/v1/artists/2joIhhX3Feq47H4QXVDOr3, 2joIhhX3Feq47H4QXVDOr3                                   , RINI                                                     , artist                                                   , spotify:artist:2joIhhX3Feq47H4QXVDOr3                    , https://open.spotify.com/artist/2joIhhX3Feq47H4QXVDOr3   </td><td>257000</td><td>FALSE</td><td>My Favourite Clothes</td><td>66</td><td>single</td><td>My Favourite Clothes         </td><td>2018-01-06</td></tr>\n",
       "</tbody>\n",
       "</table>\n"
      ],
      "text/latex": [
       "A tibble: 6 × 9\n",
       "\\begin{tabular}{lllllllll}\n",
       " added\\_at & track.artists & track.duration\\_ms & track.explicit & track.name & track.popularity & track.album.album\\_type & track.album.name & track.album.release\\_date\\\\\n",
       " <chr> & <list> & <int> & <lgl> & <chr> & <int> & <chr> & <chr> & <chr>\\\\\n",
       "\\hline\n",
       "\t 2022-08-06T00:01:24Z & https://api.spotify.com/v1/artists/5GGJosGMs08YEmKTZJe1fL, 5GGJosGMs08YEmKTZJe1fL                                   , Suki Waterhouse                                          , artist                                                   , spotify:artist:5GGJosGMs08YEmKTZJe1fL                    , https://open.spotify.com/artist/5GGJosGMs08YEmKTZJe1fL    & 214800 & FALSE & Good Looking         &  1 & single & Good Looking                  & 2017-10-20\\\\\n",
       "\t 2022-08-06T00:04:37Z & https://api.spotify.com/v1/artists/5ZsFI1h6hIdQRw2ti0hz81, 5ZsFI1h6hIdQRw2ti0hz81                                   , ZAYN                                                     , artist                                                   , spotify:artist:5ZsFI1h6hIdQRw2ti0hz81                    , https://open.spotify.com/artist/5ZsFI1h6hIdQRw2ti0hz81    & 202213 & FALSE & fOoL fOr YoU         & 65 & album  & Mind Of Mine (Deluxe Edition) & 2016-03-25\\\\\n",
       "\t 2022-08-06T00:17:48Z & https://api.spotify.com/v1/artists/2kxP07DLgs4xlWz8YHlvfh, 2kxP07DLgs4xlWz8YHlvfh                                   , NIKI                                                     , artist                                                   , spotify:artist:2kxP07DLgs4xlWz8YHlvfh                    , https://open.spotify.com/artist/2kxP07DLgs4xlWz8YHlvfh    & 215686 & FALSE & Every Summertime     & 77 & single & Every Summertime              & 2021-08-10\\\\\n",
       "\t 2022-08-06T00:18:07Z & https://api.spotify.com/v1/artists/6nxWCVXbOlEVRexSbLsTer, https://api.spotify.com/v1/artists/6xHUXzrfhFgnIv86EBR3Ml, 6nxWCVXbOlEVRexSbLsTer                                   , 6xHUXzrfhFgnIv86EBR3Ml                                   , Flume                                                    , kai                                                      , artist                                                   , artist                                                   , spotify:artist:6nxWCVXbOlEVRexSbLsTer                    , spotify:artist:6xHUXzrfhFgnIv86EBR3Ml                    , https://open.spotify.com/artist/6nxWCVXbOlEVRexSbLsTer   , https://open.spotify.com/artist/6xHUXzrfhFgnIv86EBR3Ml    & 233337 &  TRUE & Never Be Like You    &  0 & album  & Skin                          & 2016-05-27\\\\\n",
       "\t 2022-08-06T00:26:55Z & https://api.spotify.com/v1/artists/3pc0bOVB5whxmD50W79wwO, 3pc0bOVB5whxmD50W79wwO                                   , keshi                                                    , artist                                                   , spotify:artist:3pc0bOVB5whxmD50W79wwO                    , https://open.spotify.com/artist/3pc0bOVB5whxmD50W79wwO    & 164662 &  TRUE & SOMEBODY             & 68 & album  & GABRIEL                       & 2022-03-25\\\\\n",
       "\t 2022-08-10T04:30:57Z & https://api.spotify.com/v1/artists/2joIhhX3Feq47H4QXVDOr3, 2joIhhX3Feq47H4QXVDOr3                                   , RINI                                                     , artist                                                   , spotify:artist:2joIhhX3Feq47H4QXVDOr3                    , https://open.spotify.com/artist/2joIhhX3Feq47H4QXVDOr3    & 257000 & FALSE & My Favourite Clothes & 66 & single & My Favourite Clothes          & 2018-01-06\\\\\n",
       "\\end{tabular}\n"
      ],
      "text/markdown": [
       "\n",
       "A tibble: 6 × 9\n",
       "\n",
       "| added_at &lt;chr&gt; | track.artists &lt;list&gt; | track.duration_ms &lt;int&gt; | track.explicit &lt;lgl&gt; | track.name &lt;chr&gt; | track.popularity &lt;int&gt; | track.album.album_type &lt;chr&gt; | track.album.name &lt;chr&gt; | track.album.release_date &lt;chr&gt; |\n",
       "|---|---|---|---|---|---|---|---|---|\n",
       "| 2022-08-06T00:01:24Z | https://api.spotify.com/v1/artists/5GGJosGMs08YEmKTZJe1fL, 5GGJosGMs08YEmKTZJe1fL                                   , Suki Waterhouse                                          , artist                                                   , spotify:artist:5GGJosGMs08YEmKTZJe1fL                    , https://open.spotify.com/artist/5GGJosGMs08YEmKTZJe1fL    | 214800 | FALSE | Good Looking         |  1 | single | Good Looking                  | 2017-10-20 |\n",
       "| 2022-08-06T00:04:37Z | https://api.spotify.com/v1/artists/5ZsFI1h6hIdQRw2ti0hz81, 5ZsFI1h6hIdQRw2ti0hz81                                   , ZAYN                                                     , artist                                                   , spotify:artist:5ZsFI1h6hIdQRw2ti0hz81                    , https://open.spotify.com/artist/5ZsFI1h6hIdQRw2ti0hz81    | 202213 | FALSE | fOoL fOr YoU         | 65 | album  | Mind Of Mine (Deluxe Edition) | 2016-03-25 |\n",
       "| 2022-08-06T00:17:48Z | https://api.spotify.com/v1/artists/2kxP07DLgs4xlWz8YHlvfh, 2kxP07DLgs4xlWz8YHlvfh                                   , NIKI                                                     , artist                                                   , spotify:artist:2kxP07DLgs4xlWz8YHlvfh                    , https://open.spotify.com/artist/2kxP07DLgs4xlWz8YHlvfh    | 215686 | FALSE | Every Summertime     | 77 | single | Every Summertime              | 2021-08-10 |\n",
       "| 2022-08-06T00:18:07Z | https://api.spotify.com/v1/artists/6nxWCVXbOlEVRexSbLsTer, https://api.spotify.com/v1/artists/6xHUXzrfhFgnIv86EBR3Ml, 6nxWCVXbOlEVRexSbLsTer                                   , 6xHUXzrfhFgnIv86EBR3Ml                                   , Flume                                                    , kai                                                      , artist                                                   , artist                                                   , spotify:artist:6nxWCVXbOlEVRexSbLsTer                    , spotify:artist:6xHUXzrfhFgnIv86EBR3Ml                    , https://open.spotify.com/artist/6nxWCVXbOlEVRexSbLsTer   , https://open.spotify.com/artist/6xHUXzrfhFgnIv86EBR3Ml    | 233337 |  TRUE | Never Be Like You    |  0 | album  | Skin                          | 2016-05-27 |\n",
       "| 2022-08-06T00:26:55Z | https://api.spotify.com/v1/artists/3pc0bOVB5whxmD50W79wwO, 3pc0bOVB5whxmD50W79wwO                                   , keshi                                                    , artist                                                   , spotify:artist:3pc0bOVB5whxmD50W79wwO                    , https://open.spotify.com/artist/3pc0bOVB5whxmD50W79wwO    | 164662 |  TRUE | SOMEBODY             | 68 | album  | GABRIEL                       | 2022-03-25 |\n",
       "| 2022-08-10T04:30:57Z | https://api.spotify.com/v1/artists/2joIhhX3Feq47H4QXVDOr3, 2joIhhX3Feq47H4QXVDOr3                                   , RINI                                                     , artist                                                   , spotify:artist:2joIhhX3Feq47H4QXVDOr3                    , https://open.spotify.com/artist/2joIhhX3Feq47H4QXVDOr3    | 257000 | FALSE | My Favourite Clothes | 66 | single | My Favourite Clothes          | 2018-01-06 |\n",
       "\n"
      ],
      "text/plain": [
       "  added_at            \n",
       "1 2022-08-06T00:01:24Z\n",
       "2 2022-08-06T00:04:37Z\n",
       "3 2022-08-06T00:17:48Z\n",
       "4 2022-08-06T00:18:07Z\n",
       "5 2022-08-06T00:26:55Z\n",
       "6 2022-08-10T04:30:57Z\n",
       "  track.artists                                                                                                                                                                                                                                                                                                                                                                                                                                                                                                                                                                                                                                                                                                                     \n",
       "1 https://api.spotify.com/v1/artists/5GGJosGMs08YEmKTZJe1fL, 5GGJosGMs08YEmKTZJe1fL                                   , Suki Waterhouse                                          , artist                                                   , spotify:artist:5GGJosGMs08YEmKTZJe1fL                    , https://open.spotify.com/artist/5GGJosGMs08YEmKTZJe1fL                                                                                                                                                                                                                                                                                                                                                                     \n",
       "2 https://api.spotify.com/v1/artists/5ZsFI1h6hIdQRw2ti0hz81, 5ZsFI1h6hIdQRw2ti0hz81                                   , ZAYN                                                     , artist                                                   , spotify:artist:5ZsFI1h6hIdQRw2ti0hz81                    , https://open.spotify.com/artist/5ZsFI1h6hIdQRw2ti0hz81                                                                                                                                                                                                                                                                                                                                                                     \n",
       "3 https://api.spotify.com/v1/artists/2kxP07DLgs4xlWz8YHlvfh, 2kxP07DLgs4xlWz8YHlvfh                                   , NIKI                                                     , artist                                                   , spotify:artist:2kxP07DLgs4xlWz8YHlvfh                    , https://open.spotify.com/artist/2kxP07DLgs4xlWz8YHlvfh                                                                                                                                                                                                                                                                                                                                                                     \n",
       "4 https://api.spotify.com/v1/artists/6nxWCVXbOlEVRexSbLsTer, https://api.spotify.com/v1/artists/6xHUXzrfhFgnIv86EBR3Ml, 6nxWCVXbOlEVRexSbLsTer                                   , 6xHUXzrfhFgnIv86EBR3Ml                                   , Flume                                                    , kai                                                      , artist                                                   , artist                                                   , spotify:artist:6nxWCVXbOlEVRexSbLsTer                    , spotify:artist:6xHUXzrfhFgnIv86EBR3Ml                    , https://open.spotify.com/artist/6nxWCVXbOlEVRexSbLsTer   , https://open.spotify.com/artist/6xHUXzrfhFgnIv86EBR3Ml   \n",
       "5 https://api.spotify.com/v1/artists/3pc0bOVB5whxmD50W79wwO, 3pc0bOVB5whxmD50W79wwO                                   , keshi                                                    , artist                                                   , spotify:artist:3pc0bOVB5whxmD50W79wwO                    , https://open.spotify.com/artist/3pc0bOVB5whxmD50W79wwO                                                                                                                                                                                                                                                                                                                                                                     \n",
       "6 https://api.spotify.com/v1/artists/2joIhhX3Feq47H4QXVDOr3, 2joIhhX3Feq47H4QXVDOr3                                   , RINI                                                     , artist                                                   , spotify:artist:2joIhhX3Feq47H4QXVDOr3                    , https://open.spotify.com/artist/2joIhhX3Feq47H4QXVDOr3                                                                                                                                                                                                                                                                                                                                                                     \n",
       "  track.duration_ms track.explicit track.name           track.popularity\n",
       "1 214800            FALSE          Good Looking          1              \n",
       "2 202213            FALSE          fOoL fOr YoU         65              \n",
       "3 215686            FALSE          Every Summertime     77              \n",
       "4 233337             TRUE          Never Be Like You     0              \n",
       "5 164662             TRUE          SOMEBODY             68              \n",
       "6 257000            FALSE          My Favourite Clothes 66              \n",
       "  track.album.album_type track.album.name              track.album.release_date\n",
       "1 single                 Good Looking                  2017-10-20              \n",
       "2 album                  Mind Of Mine (Deluxe Edition) 2016-03-25              \n",
       "3 single                 Every Summertime              2021-08-10              \n",
       "4 album                  Skin                          2016-05-27              \n",
       "5 album                  GABRIEL                       2022-03-25              \n",
       "6 single                 My Favourite Clothes          2018-01-06              "
      ]
     },
     "metadata": {},
     "output_type": "display_data"
    }
   ],
   "source": [
    "# Selecting only the identified columns above\n",
    "shortened_y1_playlist <- y1_playlist |> select(added_at, track.artists, track.duration_ms, \n",
    "                                                  track.explicit, track.name, track.popularity, \n",
    "                                                  track.album.album_type, track.album.name, \n",
    "                                                  track.album.release_date)\n",
    "# Getting the dimensions\n",
    "dim(shortened_y1_playlist)\n",
    "\n",
    "# Getting the first six rows of our shorter data frame\n",
    "head(shortened_y1_playlist)"
   ]
  },
  {
   "cell_type": "markdown",
   "id": "ca90030b-d4ec-42fb-af72-2727f0f70a6b",
   "metadata": {},
   "source": [
    "According to the dimensions of the data frame, there are 567 rows. However, my playlist only has 566 songs! This means there could be some overcounting involved. Let's check if there are duplicate rows:"
   ]
  },
  {
   "cell_type": "code",
   "execution_count": 60,
   "id": "981571f9-e741-4d5f-bc5d-0c584a682910",
   "metadata": {},
   "outputs": [
    {
     "data": {
      "text/html": [
       "<style>\n",
       ".list-inline {list-style: none; margin:0; padding: 0}\n",
       ".list-inline>li {display: inline-block}\n",
       ".list-inline>li:not(:last-child)::after {content: \"\\00b7\"; padding: 0 .5ex}\n",
       "</style>\n",
       "<ol class=list-inline><li>567</li><li>9</li></ol>\n"
      ],
      "text/latex": [
       "\\begin{enumerate*}\n",
       "\\item 567\n",
       "\\item 9\n",
       "\\end{enumerate*}\n"
      ],
      "text/markdown": [
       "1. 567\n",
       "2. 9\n",
       "\n",
       "\n"
      ],
      "text/plain": [
       "[1] 567   9"
      ]
     },
     "metadata": {},
     "output_type": "display_data"
    }
   ],
   "source": [
    "# Keeping only unique rows from shortened_playlist_2022 and checking if total rows become 566\n",
    "dim(distinct(shortened_y1_playlist))"
   ]
  },
  {
   "cell_type": "markdown",
   "id": "99b1c9f3-c661-4c3a-9f53-0c4eb4a59e17",
   "metadata": {},
   "source": [
    "This shows us that there were no overcounted songs, since even after removing duplicates we are left with 567 rows. To identify the source of the extra row, let's check if there are any rows with NA's:"
   ]
  },
  {
   "cell_type": "code",
   "execution_count": 61,
   "id": "4d97ebb5-6a2a-4735-91d2-dc15ee3fab4a",
   "metadata": {},
   "outputs": [
    {
     "data": {
      "text/html": [
       "<table class=\"dataframe\">\n",
       "<caption>A tibble: 1 × 9</caption>\n",
       "<thead>\n",
       "\t<tr><th scope=col>added_at</th><th scope=col>track.artists</th><th scope=col>track.duration_ms</th><th scope=col>track.explicit</th><th scope=col>track.name</th><th scope=col>track.popularity</th><th scope=col>track.album.album_type</th><th scope=col>track.album.name</th><th scope=col>track.album.release_date</th></tr>\n",
       "\t<tr><th scope=col>&lt;chr&gt;</th><th scope=col>&lt;list&gt;</th><th scope=col>&lt;int&gt;</th><th scope=col>&lt;lgl&gt;</th><th scope=col>&lt;chr&gt;</th><th scope=col>&lt;int&gt;</th><th scope=col>&lt;chr&gt;</th><th scope=col>&lt;chr&gt;</th><th scope=col>&lt;chr&gt;</th></tr>\n",
       "</thead>\n",
       "<tbody>\n",
       "\t<tr><td>2023-07-30T20:14:01Z</td><td>NULL</td><td>NA</td><td>NA</td><td>NA</td><td>NA</td><td>NA</td><td>NA</td><td>NA</td></tr>\n",
       "</tbody>\n",
       "</table>\n"
      ],
      "text/latex": [
       "A tibble: 1 × 9\n",
       "\\begin{tabular}{lllllllll}\n",
       " added\\_at & track.artists & track.duration\\_ms & track.explicit & track.name & track.popularity & track.album.album\\_type & track.album.name & track.album.release\\_date\\\\\n",
       " <chr> & <list> & <int> & <lgl> & <chr> & <int> & <chr> & <chr> & <chr>\\\\\n",
       "\\hline\n",
       "\t 2023-07-30T20:14:01Z & NULL & NA & NA & NA & NA & NA & NA & NA\\\\\n",
       "\\end{tabular}\n"
      ],
      "text/markdown": [
       "\n",
       "A tibble: 1 × 9\n",
       "\n",
       "| added_at &lt;chr&gt; | track.artists &lt;list&gt; | track.duration_ms &lt;int&gt; | track.explicit &lt;lgl&gt; | track.name &lt;chr&gt; | track.popularity &lt;int&gt; | track.album.album_type &lt;chr&gt; | track.album.name &lt;chr&gt; | track.album.release_date &lt;chr&gt; |\n",
       "|---|---|---|---|---|---|---|---|---|\n",
       "| 2023-07-30T20:14:01Z | NULL | NA | NA | NA | NA | NA | NA | NA |\n",
       "\n"
      ],
      "text/plain": [
       "  added_at             track.artists track.duration_ms track.explicit\n",
       "1 2023-07-30T20:14:01Z NULL          NA                NA            \n",
       "  track.name track.popularity track.album.album_type track.album.name\n",
       "1 NA         NA               NA                     NA              \n",
       "  track.album.release_date\n",
       "1 NA                      "
      ]
     },
     "metadata": {},
     "output_type": "display_data"
    }
   ],
   "source": [
    "rows_with_missing <- shortened_y1_playlist[apply(is.na(shortened_y1_playlist), 1, any), ]\n",
    "rows_with_missing"
   ]
  },
  {
   "cell_type": "markdown",
   "id": "9b4a7909-0a16-4022-af4d-c96e986d2ec1",
   "metadata": {},
   "source": [
    "Above is the row that caused the extra row count in our playlist data frame. Perhaps Spotify puts NA for songs that have been deleted from their platform. Since there is no data in the row, we can safely remove this row from our playlist data frame:"
   ]
  },
  {
   "cell_type": "code",
   "execution_count": 62,
   "id": "ac3f81e4-ec3c-438a-af1c-616cb0d08e2d",
   "metadata": {},
   "outputs": [
    {
     "data": {
      "text/html": [
       "<style>\n",
       ".list-inline {list-style: none; margin:0; padding: 0}\n",
       ".list-inline>li {display: inline-block}\n",
       ".list-inline>li:not(:last-child)::after {content: \"\\00b7\"; padding: 0 .5ex}\n",
       "</style>\n",
       "<ol class=list-inline><li>567</li><li>9</li></ol>\n"
      ],
      "text/latex": [
       "\\begin{enumerate*}\n",
       "\\item 567\n",
       "\\item 9\n",
       "\\end{enumerate*}\n"
      ],
      "text/markdown": [
       "1. 567\n",
       "2. 9\n",
       "\n",
       "\n"
      ],
      "text/plain": [
       "[1] 567   9"
      ]
     },
     "metadata": {},
     "output_type": "display_data"
    }
   ],
   "source": [
    "shortened_playlist_2022 <- na.omit(shortened_y1_playlist)\n",
    "dim(shortened_y1_playlist)"
   ]
  },
  {
   "cell_type": "markdown",
   "id": "8bf54d09-810d-4ac7-9d66-2d6293367561",
   "metadata": {},
   "source": [
    "I will now also load my year 2 playlist which has 102 songs in it:"
   ]
  },
  {
   "cell_type": "code",
   "execution_count": 79,
   "id": "fd4cf67f-6bb6-4923-882f-770a17088f22",
   "metadata": {},
   "outputs": [
    {
     "data": {
      "text/html": [
       "<style>\n",
       ".list-inline {list-style: none; margin:0; padding: 0}\n",
       ".list-inline>li {display: inline-block}\n",
       ".list-inline>li:not(:last-child)::after {content: \"\\00b7\"; padding: 0 .5ex}\n",
       "</style>\n",
       "<ol class=list-inline><li>101</li><li>9</li></ol>\n"
      ],
      "text/latex": [
       "\\begin{enumerate*}\n",
       "\\item 101\n",
       "\\item 9\n",
       "\\end{enumerate*}\n"
      ],
      "text/markdown": [
       "1. 101\n",
       "2. 9\n",
       "\n",
       "\n"
      ],
      "text/plain": [
       "[1] 101   9"
      ]
     },
     "metadata": {},
     "output_type": "display_data"
    },
    {
     "data": {
      "text/html": [
       "<table class=\"dataframe\">\n",
       "<caption>A tibble: 6 × 9</caption>\n",
       "<thead>\n",
       "\t<tr><th scope=col>added_at</th><th scope=col>track.artists</th><th scope=col>track.duration_ms</th><th scope=col>track.explicit</th><th scope=col>track.name</th><th scope=col>track.popularity</th><th scope=col>track.album.album_type</th><th scope=col>track.album.name</th><th scope=col>track.album.release_date</th></tr>\n",
       "\t<tr><th scope=col>&lt;chr&gt;</th><th scope=col>&lt;list&gt;</th><th scope=col>&lt;int&gt;</th><th scope=col>&lt;lgl&gt;</th><th scope=col>&lt;chr&gt;</th><th scope=col>&lt;int&gt;</th><th scope=col>&lt;chr&gt;</th><th scope=col>&lt;chr&gt;</th><th scope=col>&lt;chr&gt;</th></tr>\n",
       "</thead>\n",
       "<tbody>\n",
       "\t<tr><td>2023-12-10T18:03:34Z</td><td>https://api.spotify.com/v1/artists/6eJa3zG1QZLRB3xgRuyxbm, 6eJa3zG1QZLRB3xgRuyxbm                                   , Dayglow                                                  , artist                                                   , spotify:artist:6eJa3zG1QZLRB3xgRuyxbm                    , https://open.spotify.com/artist/6eJa3zG1QZLRB3xgRuyxbm   </td><td>215555</td><td>FALSE</td><td>Listerine          </td><td>59</td><td>album </td><td>Fuzzybrain                        </td><td>2019-11-14</td></tr>\n",
       "\t<tr><td>2023-12-10T18:03:48Z</td><td>https://api.spotify.com/v1/artists/62iEYJuqOpo6M5UAu4aw3U, 62iEYJuqOpo6M5UAu4aw3U                                   , dad sports                                               , artist                                                   , spotify:artist:62iEYJuqOpo6M5UAu4aw3U                    , https://open.spotify.com/artist/62iEYJuqOpo6M5UAu4aw3U   </td><td>201857</td><td>FALSE</td><td>out 4 a breather   </td><td>46</td><td>single</td><td>I AM JUST A BOY LEAVE ME ALONE !!!</td><td>2021-03-19</td></tr>\n",
       "\t<tr><td>2023-12-15T13:29:11Z</td><td>https://api.spotify.com/v1/artists/4gzpq5DPGxSnKTe4SA8HAU, 4gzpq5DPGxSnKTe4SA8HAU                                   , Coldplay                                                 , artist                                                   , spotify:artist:4gzpq5DPGxSnKTe4SA8HAU                    , https://open.spotify.com/artist/4gzpq5DPGxSnKTe4SA8HAU   </td><td>278906</td><td> TRUE</td><td>Trouble In Town    </td><td>49</td><td>album </td><td>Everyday Life                     </td><td>2019-11-22</td></tr>\n",
       "\t<tr><td>2023-12-21T15:40:15Z</td><td>https://api.spotify.com/v1/artists/3g65HWtAf8uyVmpR4sRbrT, 3g65HWtAf8uyVmpR4sRbrT                                   , The Hails                                                , artist                                                   , spotify:artist:3g65HWtAf8uyVmpR4sRbrT                    , https://open.spotify.com/artist/3g65HWtAf8uyVmpR4sRbrT   </td><td>200961</td><td>FALSE</td><td>Fiona              </td><td>41</td><td>album </td><td>What's Your Motive                </td><td>2023-09-08</td></tr>\n",
       "\t<tr><td>2023-12-22T03:36:04Z</td><td>https://api.spotify.com/v1/artists/5XQRfs0gXs30aWUn1Umves, 5XQRfs0gXs30aWUn1Umves                                   , Choker                                                   , artist                                                   , spotify:artist:5XQRfs0gXs30aWUn1Umves                    , https://open.spotify.com/artist/5XQRfs0gXs30aWUn1Umves   </td><td>231680</td><td> TRUE</td><td>Juno               </td><td>52</td><td>album </td><td>Honeybloom                        </td><td>2018-08-03</td></tr>\n",
       "\t<tr><td>2024-01-03T00:22:13Z</td><td>https://api.spotify.com/v1/artists/3zmfs9cQwzJl575W1ZYXeT, 3zmfs9cQwzJl575W1ZYXeT                                   , Men I Trust                                              , artist                                                   , spotify:artist:3zmfs9cQwzJl575W1ZYXeT                    , https://open.spotify.com/artist/3zmfs9cQwzJl575W1ZYXeT   </td><td>205554</td><td>FALSE</td><td>I Hope to Be Around</td><td>59</td><td>single</td><td>I Hope to Be Around               </td><td>2017-11-10</td></tr>\n",
       "</tbody>\n",
       "</table>\n"
      ],
      "text/latex": [
       "A tibble: 6 × 9\n",
       "\\begin{tabular}{lllllllll}\n",
       " added\\_at & track.artists & track.duration\\_ms & track.explicit & track.name & track.popularity & track.album.album\\_type & track.album.name & track.album.release\\_date\\\\\n",
       " <chr> & <list> & <int> & <lgl> & <chr> & <int> & <chr> & <chr> & <chr>\\\\\n",
       "\\hline\n",
       "\t 2023-12-10T18:03:34Z & https://api.spotify.com/v1/artists/6eJa3zG1QZLRB3xgRuyxbm, 6eJa3zG1QZLRB3xgRuyxbm                                   , Dayglow                                                  , artist                                                   , spotify:artist:6eJa3zG1QZLRB3xgRuyxbm                    , https://open.spotify.com/artist/6eJa3zG1QZLRB3xgRuyxbm    & 215555 & FALSE & Listerine           & 59 & album  & Fuzzybrain                         & 2019-11-14\\\\\n",
       "\t 2023-12-10T18:03:48Z & https://api.spotify.com/v1/artists/62iEYJuqOpo6M5UAu4aw3U, 62iEYJuqOpo6M5UAu4aw3U                                   , dad sports                                               , artist                                                   , spotify:artist:62iEYJuqOpo6M5UAu4aw3U                    , https://open.spotify.com/artist/62iEYJuqOpo6M5UAu4aw3U    & 201857 & FALSE & out 4 a breather    & 46 & single & I AM JUST A BOY LEAVE ME ALONE !!! & 2021-03-19\\\\\n",
       "\t 2023-12-15T13:29:11Z & https://api.spotify.com/v1/artists/4gzpq5DPGxSnKTe4SA8HAU, 4gzpq5DPGxSnKTe4SA8HAU                                   , Coldplay                                                 , artist                                                   , spotify:artist:4gzpq5DPGxSnKTe4SA8HAU                    , https://open.spotify.com/artist/4gzpq5DPGxSnKTe4SA8HAU    & 278906 &  TRUE & Trouble In Town     & 49 & album  & Everyday Life                      & 2019-11-22\\\\\n",
       "\t 2023-12-21T15:40:15Z & https://api.spotify.com/v1/artists/3g65HWtAf8uyVmpR4sRbrT, 3g65HWtAf8uyVmpR4sRbrT                                   , The Hails                                                , artist                                                   , spotify:artist:3g65HWtAf8uyVmpR4sRbrT                    , https://open.spotify.com/artist/3g65HWtAf8uyVmpR4sRbrT    & 200961 & FALSE & Fiona               & 41 & album  & What's Your Motive                 & 2023-09-08\\\\\n",
       "\t 2023-12-22T03:36:04Z & https://api.spotify.com/v1/artists/5XQRfs0gXs30aWUn1Umves, 5XQRfs0gXs30aWUn1Umves                                   , Choker                                                   , artist                                                   , spotify:artist:5XQRfs0gXs30aWUn1Umves                    , https://open.spotify.com/artist/5XQRfs0gXs30aWUn1Umves    & 231680 &  TRUE & Juno                & 52 & album  & Honeybloom                         & 2018-08-03\\\\\n",
       "\t 2024-01-03T00:22:13Z & https://api.spotify.com/v1/artists/3zmfs9cQwzJl575W1ZYXeT, 3zmfs9cQwzJl575W1ZYXeT                                   , Men I Trust                                              , artist                                                   , spotify:artist:3zmfs9cQwzJl575W1ZYXeT                    , https://open.spotify.com/artist/3zmfs9cQwzJl575W1ZYXeT    & 205554 & FALSE & I Hope to Be Around & 59 & single & I Hope to Be Around                & 2017-11-10\\\\\n",
       "\\end{tabular}\n"
      ],
      "text/markdown": [
       "\n",
       "A tibble: 6 × 9\n",
       "\n",
       "| added_at &lt;chr&gt; | track.artists &lt;list&gt; | track.duration_ms &lt;int&gt; | track.explicit &lt;lgl&gt; | track.name &lt;chr&gt; | track.popularity &lt;int&gt; | track.album.album_type &lt;chr&gt; | track.album.name &lt;chr&gt; | track.album.release_date &lt;chr&gt; |\n",
       "|---|---|---|---|---|---|---|---|---|\n",
       "| 2023-12-10T18:03:34Z | https://api.spotify.com/v1/artists/6eJa3zG1QZLRB3xgRuyxbm, 6eJa3zG1QZLRB3xgRuyxbm                                   , Dayglow                                                  , artist                                                   , spotify:artist:6eJa3zG1QZLRB3xgRuyxbm                    , https://open.spotify.com/artist/6eJa3zG1QZLRB3xgRuyxbm    | 215555 | FALSE | Listerine           | 59 | album  | Fuzzybrain                         | 2019-11-14 |\n",
       "| 2023-12-10T18:03:48Z | https://api.spotify.com/v1/artists/62iEYJuqOpo6M5UAu4aw3U, 62iEYJuqOpo6M5UAu4aw3U                                   , dad sports                                               , artist                                                   , spotify:artist:62iEYJuqOpo6M5UAu4aw3U                    , https://open.spotify.com/artist/62iEYJuqOpo6M5UAu4aw3U    | 201857 | FALSE | out 4 a breather    | 46 | single | I AM JUST A BOY LEAVE ME ALONE !!! | 2021-03-19 |\n",
       "| 2023-12-15T13:29:11Z | https://api.spotify.com/v1/artists/4gzpq5DPGxSnKTe4SA8HAU, 4gzpq5DPGxSnKTe4SA8HAU                                   , Coldplay                                                 , artist                                                   , spotify:artist:4gzpq5DPGxSnKTe4SA8HAU                    , https://open.spotify.com/artist/4gzpq5DPGxSnKTe4SA8HAU    | 278906 |  TRUE | Trouble In Town     | 49 | album  | Everyday Life                      | 2019-11-22 |\n",
       "| 2023-12-21T15:40:15Z | https://api.spotify.com/v1/artists/3g65HWtAf8uyVmpR4sRbrT, 3g65HWtAf8uyVmpR4sRbrT                                   , The Hails                                                , artist                                                   , spotify:artist:3g65HWtAf8uyVmpR4sRbrT                    , https://open.spotify.com/artist/3g65HWtAf8uyVmpR4sRbrT    | 200961 | FALSE | Fiona               | 41 | album  | What's Your Motive                 | 2023-09-08 |\n",
       "| 2023-12-22T03:36:04Z | https://api.spotify.com/v1/artists/5XQRfs0gXs30aWUn1Umves, 5XQRfs0gXs30aWUn1Umves                                   , Choker                                                   , artist                                                   , spotify:artist:5XQRfs0gXs30aWUn1Umves                    , https://open.spotify.com/artist/5XQRfs0gXs30aWUn1Umves    | 231680 |  TRUE | Juno                | 52 | album  | Honeybloom                         | 2018-08-03 |\n",
       "| 2024-01-03T00:22:13Z | https://api.spotify.com/v1/artists/3zmfs9cQwzJl575W1ZYXeT, 3zmfs9cQwzJl575W1ZYXeT                                   , Men I Trust                                              , artist                                                   , spotify:artist:3zmfs9cQwzJl575W1ZYXeT                    , https://open.spotify.com/artist/3zmfs9cQwzJl575W1ZYXeT    | 205554 | FALSE | I Hope to Be Around | 59 | single | I Hope to Be Around                | 2017-11-10 |\n",
       "\n"
      ],
      "text/plain": [
       "  added_at            \n",
       "1 2023-12-10T18:03:34Z\n",
       "2 2023-12-10T18:03:48Z\n",
       "3 2023-12-15T13:29:11Z\n",
       "4 2023-12-21T15:40:15Z\n",
       "5 2023-12-22T03:36:04Z\n",
       "6 2024-01-03T00:22:13Z\n",
       "  track.artists                                                                                                                                                                                                                                                                                                                                                   \n",
       "1 https://api.spotify.com/v1/artists/6eJa3zG1QZLRB3xgRuyxbm, 6eJa3zG1QZLRB3xgRuyxbm                                   , Dayglow                                                  , artist                                                   , spotify:artist:6eJa3zG1QZLRB3xgRuyxbm                    , https://open.spotify.com/artist/6eJa3zG1QZLRB3xgRuyxbm   \n",
       "2 https://api.spotify.com/v1/artists/62iEYJuqOpo6M5UAu4aw3U, 62iEYJuqOpo6M5UAu4aw3U                                   , dad sports                                               , artist                                                   , spotify:artist:62iEYJuqOpo6M5UAu4aw3U                    , https://open.spotify.com/artist/62iEYJuqOpo6M5UAu4aw3U   \n",
       "3 https://api.spotify.com/v1/artists/4gzpq5DPGxSnKTe4SA8HAU, 4gzpq5DPGxSnKTe4SA8HAU                                   , Coldplay                                                 , artist                                                   , spotify:artist:4gzpq5DPGxSnKTe4SA8HAU                    , https://open.spotify.com/artist/4gzpq5DPGxSnKTe4SA8HAU   \n",
       "4 https://api.spotify.com/v1/artists/3g65HWtAf8uyVmpR4sRbrT, 3g65HWtAf8uyVmpR4sRbrT                                   , The Hails                                                , artist                                                   , spotify:artist:3g65HWtAf8uyVmpR4sRbrT                    , https://open.spotify.com/artist/3g65HWtAf8uyVmpR4sRbrT   \n",
       "5 https://api.spotify.com/v1/artists/5XQRfs0gXs30aWUn1Umves, 5XQRfs0gXs30aWUn1Umves                                   , Choker                                                   , artist                                                   , spotify:artist:5XQRfs0gXs30aWUn1Umves                    , https://open.spotify.com/artist/5XQRfs0gXs30aWUn1Umves   \n",
       "6 https://api.spotify.com/v1/artists/3zmfs9cQwzJl575W1ZYXeT, 3zmfs9cQwzJl575W1ZYXeT                                   , Men I Trust                                              , artist                                                   , spotify:artist:3zmfs9cQwzJl575W1ZYXeT                    , https://open.spotify.com/artist/3zmfs9cQwzJl575W1ZYXeT   \n",
       "  track.duration_ms track.explicit track.name          track.popularity\n",
       "1 215555            FALSE          Listerine           59              \n",
       "2 201857            FALSE          out 4 a breather    46              \n",
       "3 278906             TRUE          Trouble In Town     49              \n",
       "4 200961            FALSE          Fiona               41              \n",
       "5 231680             TRUE          Juno                52              \n",
       "6 205554            FALSE          I Hope to Be Around 59              \n",
       "  track.album.album_type track.album.name                  \n",
       "1 album                  Fuzzybrain                        \n",
       "2 single                 I AM JUST A BOY LEAVE ME ALONE !!!\n",
       "3 album                  Everyday Life                     \n",
       "4 album                  What's Your Motive                \n",
       "5 album                  Honeybloom                        \n",
       "6 single                 I Hope to Be Around               \n",
       "  track.album.release_date\n",
       "1 2019-11-14              \n",
       "2 2021-03-19              \n",
       "3 2019-11-22              \n",
       "4 2023-09-08              \n",
       "5 2018-08-03              \n",
       "6 2017-11-10              "
      ]
     },
     "metadata": {},
     "output_type": "display_data"
    }
   ],
   "source": [
    "playlist_id <- \"6paPUoyazZ2SkgZ5HkYpoW\"\n",
    "offsets <- c(0, 100)\n",
    "segmented_playlist_tracks <- map(offsets,  ~ get_playlist_tracks(playlist_id, limit = 100, offset = .x))\n",
    "shortened_y2_playlist <- bind_rows(segmented_playlist_tracks) |>\n",
    "                         as_tibble() |>\n",
    "                         select(added_at, track.artists, track.duration_ms, \n",
    "                                          track.explicit, track.name, track.popularity, \n",
    "                                          track.album.album_type, track.album.name, \n",
    "                                          track.album.release_date)\n",
    "\n",
    "# Getting dimensions and last 6 rows of the y2 playlist\n",
    "dim(shortened_y2_playlist)\n",
    "tail(shortened_y2_playlist)\n"
   ]
  },
  {
   "cell_type": "markdown",
   "id": "6b8096bd-17e4-47c1-9038-aff1b4802256",
   "metadata": {},
   "source": [
    "### A Visual Analysis"
   ]
  },
  {
   "cell_type": "code",
   "execution_count": null,
   "id": "20273305-b28b-4eaf-8075-44b9cc8848b6",
   "metadata": {},
   "outputs": [],
   "source": []
  }
 ],
 "metadata": {
  "kernelspec": {
   "display_name": "R",
   "language": "R",
   "name": "ir"
  },
  "language_info": {
   "codemirror_mode": "r",
   "file_extension": ".r",
   "mimetype": "text/x-r-source",
   "name": "R",
   "pygments_lexer": "r",
   "version": "4.3.1"
  }
 },
 "nbformat": 4,
 "nbformat_minor": 5
}
