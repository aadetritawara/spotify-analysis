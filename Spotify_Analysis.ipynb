{
 "cells": [
  {
   "cell_type": "markdown",
   "id": "31179c07-e2ab-442e-8544-f30c77c5bbd5",
   "metadata": {},
   "source": [
    "# Spotify Analysis"
   ]
  },
  {
   "cell_type": "markdown",
   "id": "aa216355-b749-4cd5-b1df-b7bebc788066",
   "metadata": {},
   "source": [
    "First we install the necessary libraries needed for data visualization and wrangling. Additionally, the R wrapper, Spotifyr, which allows us to get insights from Spotify's web api is installed as well. "
   ]
  },
  {
   "cell_type": "code",
   "execution_count": 73,
   "id": "9522c5c0-716d-4f0b-9369-12d11613e2e5",
   "metadata": {},
   "outputs": [],
   "source": [
    "library(tidyverse)\n",
    "library(spotifyr)\n",
    "library(repr)\n",
    "library(lubridate)"
   ]
  },
  {
   "cell_type": "markdown",
   "id": "a6ff2fc5-43f1-433e-b4bb-3ea924ee4789",
   "metadata": {},
   "source": [
    "Below, we access the web API using the Client ID and Client Secret provided by Spotify upon creating a Developer Account."
   ]
  },
  {
   "cell_type": "code",
   "execution_count": 74,
   "id": "62cd9068-7378-4ec2-a33f-fd414b7d2f9f",
   "metadata": {},
   "outputs": [],
   "source": [
    "access_token <- get_spotify_access_token()"
   ]
  },
  {
   "cell_type": "markdown",
   "id": "2a2e92cf-9466-4888-8b7a-b4717873fd8e",
   "metadata": {},
   "source": [
    "## A Comparison Of My Playlists From Year 1 and Year 2 Of Undergrad\n",
    "I have attempted to capture each year of my undergraduate degree in a unique playlist. So far, I have one and a half years' worth of data. I will begin my analysis using a playlist I began creating in the fall of 2022, my first year of university. I am interested in learning the general atmosphere of the playlist and how my music preference has changed throughout my first and second years of university. "
   ]
  },
  {
   "cell_type": "markdown",
   "id": "36811a19-ad69-4c09-abbb-1f49f7caccd4",
   "metadata": {},
   "source": [
    "### Data Loading & Cleaning"
   ]
  },
  {
   "cell_type": "code",
   "execution_count": 75,
   "id": "8a00d120-6d6c-434f-80bf-982b7dd605f1",
   "metadata": {},
   "outputs": [],
   "source": [
    "# Loading the playlist data frame into the \"playlist_2022\" variable\n",
    "\n",
    "playlist_id <- \"2cQLZcVSOLDfY03SY5DZrf\"\n",
    "username <- \"AT\"\n",
    "y1_playlist <- get_playlist_audio_features(username, playlist_id)\n"
   ]
  },
  {
   "cell_type": "code",
   "execution_count": 76,
   "id": "38393aee-1389-4490-9559-a6cca22d0320",
   "metadata": {},
   "outputs": [
    {
     "data": {
      "text/html": [
       "<style>\n",
       ".list-inline {list-style: none; margin:0; padding: 0}\n",
       ".list-inline>li {display: inline-block}\n",
       ".list-inline>li:not(:last-child)::after {content: \"\\00b7\"; padding: 0 .5ex}\n",
       "</style>\n",
       "<ol class=list-inline><li>'playlist_id'</li><li>'playlist_name'</li><li>'playlist_img'</li><li>'playlist_owner_name'</li><li>'playlist_owner_id'</li><li>'danceability'</li><li>'energy'</li><li>'key'</li><li>'loudness'</li><li>'mode'</li><li>'speechiness'</li><li>'acousticness'</li><li>'instrumentalness'</li><li>'liveness'</li><li>'valence'</li><li>'tempo'</li><li>'track.id'</li><li>'analysis_url'</li><li>'time_signature'</li><li>'added_at'</li><li>'is_local'</li><li>'primary_color'</li><li>'added_by.href'</li><li>'added_by.id'</li><li>'added_by.type'</li><li>'added_by.uri'</li><li>'added_by.external_urls.spotify'</li><li>'track.artists'</li><li>'track.available_markets'</li><li>'track.disc_number'</li><li>'track.duration_ms'</li><li>'track.episode'</li><li>'track.explicit'</li><li>'track.href'</li><li>'track.is_local'</li><li>'track.name'</li><li>'track.popularity'</li><li>'track.preview_url'</li><li>'track.track'</li><li>'track.track_number'</li><li>'track.type'</li><li>'track.uri'</li><li>'track.album.album_type'</li><li>'track.album.artists'</li><li>'track.album.available_markets'</li><li>'track.album.href'</li><li>'track.album.id'</li><li>'track.album.images'</li><li>'track.album.name'</li><li>'track.album.release_date'</li><li>'track.album.release_date_precision'</li><li>'track.album.total_tracks'</li><li>'track.album.type'</li><li>'track.album.uri'</li><li>'track.album.external_urls.spotify'</li><li>'track.external_ids.isrc'</li><li>'track.external_urls.spotify'</li><li>'video_thumbnail.url'</li><li>'key_name'</li><li>'mode_name'</li><li>'key_mode'</li></ol>\n"
      ],
      "text/latex": [
       "\\begin{enumerate*}\n",
       "\\item 'playlist\\_id'\n",
       "\\item 'playlist\\_name'\n",
       "\\item 'playlist\\_img'\n",
       "\\item 'playlist\\_owner\\_name'\n",
       "\\item 'playlist\\_owner\\_id'\n",
       "\\item 'danceability'\n",
       "\\item 'energy'\n",
       "\\item 'key'\n",
       "\\item 'loudness'\n",
       "\\item 'mode'\n",
       "\\item 'speechiness'\n",
       "\\item 'acousticness'\n",
       "\\item 'instrumentalness'\n",
       "\\item 'liveness'\n",
       "\\item 'valence'\n",
       "\\item 'tempo'\n",
       "\\item 'track.id'\n",
       "\\item 'analysis\\_url'\n",
       "\\item 'time\\_signature'\n",
       "\\item 'added\\_at'\n",
       "\\item 'is\\_local'\n",
       "\\item 'primary\\_color'\n",
       "\\item 'added\\_by.href'\n",
       "\\item 'added\\_by.id'\n",
       "\\item 'added\\_by.type'\n",
       "\\item 'added\\_by.uri'\n",
       "\\item 'added\\_by.external\\_urls.spotify'\n",
       "\\item 'track.artists'\n",
       "\\item 'track.available\\_markets'\n",
       "\\item 'track.disc\\_number'\n",
       "\\item 'track.duration\\_ms'\n",
       "\\item 'track.episode'\n",
       "\\item 'track.explicit'\n",
       "\\item 'track.href'\n",
       "\\item 'track.is\\_local'\n",
       "\\item 'track.name'\n",
       "\\item 'track.popularity'\n",
       "\\item 'track.preview\\_url'\n",
       "\\item 'track.track'\n",
       "\\item 'track.track\\_number'\n",
       "\\item 'track.type'\n",
       "\\item 'track.uri'\n",
       "\\item 'track.album.album\\_type'\n",
       "\\item 'track.album.artists'\n",
       "\\item 'track.album.available\\_markets'\n",
       "\\item 'track.album.href'\n",
       "\\item 'track.album.id'\n",
       "\\item 'track.album.images'\n",
       "\\item 'track.album.name'\n",
       "\\item 'track.album.release\\_date'\n",
       "\\item 'track.album.release\\_date\\_precision'\n",
       "\\item 'track.album.total\\_tracks'\n",
       "\\item 'track.album.type'\n",
       "\\item 'track.album.uri'\n",
       "\\item 'track.album.external\\_urls.spotify'\n",
       "\\item 'track.external\\_ids.isrc'\n",
       "\\item 'track.external\\_urls.spotify'\n",
       "\\item 'video\\_thumbnail.url'\n",
       "\\item 'key\\_name'\n",
       "\\item 'mode\\_name'\n",
       "\\item 'key\\_mode'\n",
       "\\end{enumerate*}\n"
      ],
      "text/markdown": [
       "1. 'playlist_id'\n",
       "2. 'playlist_name'\n",
       "3. 'playlist_img'\n",
       "4. 'playlist_owner_name'\n",
       "5. 'playlist_owner_id'\n",
       "6. 'danceability'\n",
       "7. 'energy'\n",
       "8. 'key'\n",
       "9. 'loudness'\n",
       "10. 'mode'\n",
       "11. 'speechiness'\n",
       "12. 'acousticness'\n",
       "13. 'instrumentalness'\n",
       "14. 'liveness'\n",
       "15. 'valence'\n",
       "16. 'tempo'\n",
       "17. 'track.id'\n",
       "18. 'analysis_url'\n",
       "19. 'time_signature'\n",
       "20. 'added_at'\n",
       "21. 'is_local'\n",
       "22. 'primary_color'\n",
       "23. 'added_by.href'\n",
       "24. 'added_by.id'\n",
       "25. 'added_by.type'\n",
       "26. 'added_by.uri'\n",
       "27. 'added_by.external_urls.spotify'\n",
       "28. 'track.artists'\n",
       "29. 'track.available_markets'\n",
       "30. 'track.disc_number'\n",
       "31. 'track.duration_ms'\n",
       "32. 'track.episode'\n",
       "33. 'track.explicit'\n",
       "34. 'track.href'\n",
       "35. 'track.is_local'\n",
       "36. 'track.name'\n",
       "37. 'track.popularity'\n",
       "38. 'track.preview_url'\n",
       "39. 'track.track'\n",
       "40. 'track.track_number'\n",
       "41. 'track.type'\n",
       "42. 'track.uri'\n",
       "43. 'track.album.album_type'\n",
       "44. 'track.album.artists'\n",
       "45. 'track.album.available_markets'\n",
       "46. 'track.album.href'\n",
       "47. 'track.album.id'\n",
       "48. 'track.album.images'\n",
       "49. 'track.album.name'\n",
       "50. 'track.album.release_date'\n",
       "51. 'track.album.release_date_precision'\n",
       "52. 'track.album.total_tracks'\n",
       "53. 'track.album.type'\n",
       "54. 'track.album.uri'\n",
       "55. 'track.album.external_urls.spotify'\n",
       "56. 'track.external_ids.isrc'\n",
       "57. 'track.external_urls.spotify'\n",
       "58. 'video_thumbnail.url'\n",
       "59. 'key_name'\n",
       "60. 'mode_name'\n",
       "61. 'key_mode'\n",
       "\n",
       "\n"
      ],
      "text/plain": [
       " [1] \"playlist_id\"                        \"playlist_name\"                     \n",
       " [3] \"playlist_img\"                       \"playlist_owner_name\"               \n",
       " [5] \"playlist_owner_id\"                  \"danceability\"                      \n",
       " [7] \"energy\"                             \"key\"                               \n",
       " [9] \"loudness\"                           \"mode\"                              \n",
       "[11] \"speechiness\"                        \"acousticness\"                      \n",
       "[13] \"instrumentalness\"                   \"liveness\"                          \n",
       "[15] \"valence\"                            \"tempo\"                             \n",
       "[17] \"track.id\"                           \"analysis_url\"                      \n",
       "[19] \"time_signature\"                     \"added_at\"                          \n",
       "[21] \"is_local\"                           \"primary_color\"                     \n",
       "[23] \"added_by.href\"                      \"added_by.id\"                       \n",
       "[25] \"added_by.type\"                      \"added_by.uri\"                      \n",
       "[27] \"added_by.external_urls.spotify\"     \"track.artists\"                     \n",
       "[29] \"track.available_markets\"            \"track.disc_number\"                 \n",
       "[31] \"track.duration_ms\"                  \"track.episode\"                     \n",
       "[33] \"track.explicit\"                     \"track.href\"                        \n",
       "[35] \"track.is_local\"                     \"track.name\"                        \n",
       "[37] \"track.popularity\"                   \"track.preview_url\"                 \n",
       "[39] \"track.track\"                        \"track.track_number\"                \n",
       "[41] \"track.type\"                         \"track.uri\"                         \n",
       "[43] \"track.album.album_type\"             \"track.album.artists\"               \n",
       "[45] \"track.album.available_markets\"      \"track.album.href\"                  \n",
       "[47] \"track.album.id\"                     \"track.album.images\"                \n",
       "[49] \"track.album.name\"                   \"track.album.release_date\"          \n",
       "[51] \"track.album.release_date_precision\" \"track.album.total_tracks\"          \n",
       "[53] \"track.album.type\"                   \"track.album.uri\"                   \n",
       "[55] \"track.album.external_urls.spotify\"  \"track.external_ids.isrc\"           \n",
       "[57] \"track.external_urls.spotify\"        \"video_thumbnail.url\"               \n",
       "[59] \"key_name\"                           \"mode_name\"                         \n",
       "[61] \"key_mode\"                          "
      ]
     },
     "metadata": {},
     "output_type": "display_data"
    }
   ],
   "source": [
    "# Getting all the column names of the data frame\n",
    "colnames(y1_playlist)"
   ]
  },
  {
   "cell_type": "markdown",
   "id": "3c42cca9-9043-4f81-971d-1c841cee7595",
   "metadata": {},
   "source": [
    "Based on the above columns, some interesting columns to analyze include: \n",
    "- **'added_at'**: The date and time the song was added (NA is used if playlist is too old)\n",
    "\n",
    "- **'track.duration_ms'**: The duration of the track in milliseconds\n",
    "- **'track.explicit'**: Whether or not the track has explicit lyrics (true = yes it does; false = no it does not OR unknown).\n",
    "- **'track.name'**: Name of the track\n",
    "- **'track.popularity'**: A ranking system from 0 to 100, with higher numbers suggesting more popularity. The popularity is calculated by algorithm and is based, in the most part, on the total number of plays the track has had and how recent those plays are.\n",
    "- **'track.album.name'**: Name of the album\n",
    "- **'track.album.release_date'**: The date the album was first released\n",
    "- **'danceability'**: Danceability describes how suitable a track is for dancing based on a combination of musical elements including tempo, rhythm stability, beat strength, and overall regularity. A value of 0.0 is least danceable and 1.0 is most danceable.\n",
    "- **'energy'**: Energy is a measure from 0.0 to 1.0 and represents a perceptual measure of intensity and activity. Typically, energetic tracks feel fast, loud, and noisy. For example, death metal has high energy, while a Bach prelude scores low on the scale. Perceptual features contributing to this attribute include dynamic range, perceived loudness, timbre, onset rate, and general entropy.\n",
    "- **'key'**: The key the track is in. Integers map to pitches using standard Pitch Class notation. E.g. 0 = C, 1 = C♯/D♭, 2 = D, and so on. If no key was detected, the value is -1.\n",
    "- **'track.artists'**: A list of artists who performed the track. Each artist object includes a link to more detailed information about the artist.\n",
    "- **'loudness'**: The overall loudness of a track in decibels (dB). Loudness values are averaged across the entire track and are useful for comparing relative loudness of tracks. Loudness is the quality of a sound that is the primary psychological correlate of physical strength (amplitude). Values typically range between -60 and 0 db.\n",
    "- **'mode'**: Mode indicates the modality (major or minor) of a track, the type of scale from which its melodic content is derived. Major is represented by 1 and minor is 0.\n",
    "- **'speechiness'**: Speechiness detects the presence of spoken words in a track. The more exclusively speech-like the recording (e.g. talk show, audio book, poetry), the closer to 1.0 the attribute value. Values above 0.66 describe tracks that are probably made entirely of spoken words. Values between 0.33 and 0.66 describe tracks that may contain both music and speech, either in sections or layered, including such cases as rap music. Values below 0.33 most likely represent music and other non-speech-like tracks.\n",
    "- **'acousticness'**: A confidence measure from 0.0 to 1.0 of whether the track is acoustic. 1.0 represents high confidence the track is acoustic.\n",
    "- **'instrumentalness'**: Predicts whether a track contains no vocals. \"Ooh\" and \"aah\" sounds are treated as instrumental in this context. Rap or spoken word tracks are clearly \"vocal\". The closer the instrumentalness value is to 1.0, the greater likelihood the track contains no vocal content. Values above 0.5 are intended to represent instrumental tracks, but confidence is higher as the value approaches 1.0.\n",
    "- **'liveness'**: Detects the presence of an audience in the recording. Higher liveness values represent an increased probability that the track was performed live. A value above 0.8 provides strong likelihood that the track is live.\n",
    "- **'valence'**: A measure from 0.0 to 1.0 describing the musical positiveness conveyed by a track. Tracks with high valence sound more positive (e.g. happy, cheerful, euphoric), while tracks with low valence sound more negative (e.g. sad, depressed, angry).\n",
    "- **'tempo'**: The overall estimated tempo of a track in beats per minute (BPM). In musical terminology, tempo is the speed or pace of a given piece and derives directly from the average beat duration.\n",
    "- **'key_name'**: Key name represented as a string\n",
    "- **'mode_name'**: Mode represented as a string (\"major\" or \"minor\")\n",
    "- **'key_mode'**: Both key and mode together as a string (ex: \"G major\")\n",
    "- **'time_signature'**: An estimated time signature. The time signature (meter) is a notational convention to specify how many beats are in each bar (or measure). The time signature ranges from 3 to 7 indicating time signatures of \"3/4\", to \"7/4\"."
   ]
  },
  {
   "cell_type": "code",
   "execution_count": 77,
   "id": "54095c6a-3e92-40aa-8b76-5e3d922f58c1",
   "metadata": {
    "scrolled": true
   },
   "outputs": [
    {
     "name": "stderr",
     "output_type": "stream",
     "text": [
      "Warning message:\n",
      "“\u001b[1m\u001b[22mThere was 1 warning in `mutate()`.\n",
      "\u001b[1m\u001b[22m\u001b[36mℹ\u001b[39m In argument: `track.album.release_date =\n",
      "  as_datetime(track.album.release_date)`.\n",
      "Caused by warning:\n",
      "\u001b[33m!\u001b[39m  10 failed to parse.”\n"
     ]
    },
    {
     "data": {
      "text/html": [
       "<style>\n",
       ".list-inline {list-style: none; margin:0; padding: 0}\n",
       ".list-inline>li {display: inline-block}\n",
       ".list-inline>li:not(:last-child)::after {content: \"\\00b7\"; padding: 0 .5ex}\n",
       "</style>\n",
       "<ol class=list-inline><li>567</li><li>23</li></ol>\n"
      ],
      "text/latex": [
       "\\begin{enumerate*}\n",
       "\\item 567\n",
       "\\item 23\n",
       "\\end{enumerate*}\n"
      ],
      "text/markdown": [
       "1. 567\n",
       "2. 23\n",
       "\n",
       "\n"
      ],
      "text/plain": [
       "[1] 567  23"
      ]
     },
     "metadata": {},
     "output_type": "display_data"
    },
    {
     "data": {
      "text/html": [
       "<table class=\"dataframe\">\n",
       "<caption>A tibble: 6 × 23</caption>\n",
       "<thead>\n",
       "\t<tr><th scope=col>added_at</th><th scope=col>track.duration_ms</th><th scope=col>track.explicit</th><th scope=col>track.name</th><th scope=col>track.popularity</th><th scope=col>track.album.name</th><th scope=col>track.album.release_date</th><th scope=col>danceability</th><th scope=col>energy</th><th scope=col>key</th><th scope=col>⋯</th><th scope=col>speechiness</th><th scope=col>acousticness</th><th scope=col>instrumentalness</th><th scope=col>liveness</th><th scope=col>valence</th><th scope=col>tempo</th><th scope=col>key_name</th><th scope=col>mode_name</th><th scope=col>key_mode</th><th scope=col>time_signature</th></tr>\n",
       "\t<tr><th scope=col>&lt;dttm&gt;</th><th scope=col>&lt;int&gt;</th><th scope=col>&lt;lgl&gt;</th><th scope=col>&lt;chr&gt;</th><th scope=col>&lt;int&gt;</th><th scope=col>&lt;chr&gt;</th><th scope=col>&lt;dttm&gt;</th><th scope=col>&lt;dbl&gt;</th><th scope=col>&lt;dbl&gt;</th><th scope=col>&lt;int&gt;</th><th scope=col>⋯</th><th scope=col>&lt;dbl&gt;</th><th scope=col>&lt;dbl&gt;</th><th scope=col>&lt;dbl&gt;</th><th scope=col>&lt;dbl&gt;</th><th scope=col>&lt;dbl&gt;</th><th scope=col>&lt;dbl&gt;</th><th scope=col>&lt;chr&gt;</th><th scope=col>&lt;chr&gt;</th><th scope=col>&lt;chr&gt;</th><th scope=col>&lt;int&gt;</th></tr>\n",
       "</thead>\n",
       "<tbody>\n",
       "\t<tr><td>2022-08-06 00:01:24</td><td>214800</td><td>FALSE</td><td>Good Looking        </td><td> 1</td><td>Good Looking                 </td><td>2017-10-20</td><td>0.377</td><td>0.558</td><td>4</td><td>⋯</td><td>0.0299</td><td>0.0789</td><td>3.42e-04</td><td>0.1250</td><td>0.267</td><td>149.971</td><td>E </td><td>major</td><td>E major </td><td>3</td></tr>\n",
       "\t<tr><td>2022-08-06 00:04:37</td><td>202213</td><td>FALSE</td><td>fOoL fOr YoU        </td><td>65</td><td>Mind Of Mine (Deluxe Edition)</td><td>2016-03-25</td><td>0.520</td><td>0.513</td><td>7</td><td>⋯</td><td>0.0256</td><td>0.2810</td><td>0.00e+00</td><td>0.0976</td><td>0.170</td><td> 77.903</td><td>G </td><td>major</td><td>G major </td><td>4</td></tr>\n",
       "\t<tr><td>2022-08-06 00:17:48</td><td>215686</td><td>FALSE</td><td>Every Summertime    </td><td>77</td><td>Every Summertime             </td><td>2021-08-10</td><td>0.628</td><td>0.676</td><td>6</td><td>⋯</td><td>0.0424</td><td>0.3930</td><td>6.94e-05</td><td>0.0978</td><td>0.723</td><td> 78.996</td><td>F#</td><td>major</td><td>F# major</td><td>4</td></tr>\n",
       "\t<tr><td>2022-08-06 00:18:07</td><td>233337</td><td> TRUE</td><td>Never Be Like You   </td><td> 0</td><td>Skin                         </td><td>2016-05-27</td><td>0.443</td><td>0.558</td><td>0</td><td>⋯</td><td>0.0624</td><td>0.4410</td><td>0.00e+00</td><td>0.1630</td><td>0.248</td><td>116.838</td><td>C </td><td>major</td><td>C major </td><td>4</td></tr>\n",
       "\t<tr><td>2022-08-06 00:26:55</td><td>164662</td><td> TRUE</td><td>SOMEBODY            </td><td>68</td><td>GABRIEL                      </td><td>2022-03-25</td><td>0.649</td><td>0.461</td><td>8</td><td>⋯</td><td>0.0449</td><td>0.4420</td><td>0.00e+00</td><td>0.1080</td><td>0.487</td><td>141.088</td><td>G#</td><td>major</td><td>G# major</td><td>4</td></tr>\n",
       "\t<tr><td>2022-08-10 04:30:57</td><td>257000</td><td>FALSE</td><td>My Favourite Clothes</td><td>66</td><td>My Favourite Clothes         </td><td>2018-01-06</td><td>0.746</td><td>0.339</td><td>2</td><td>⋯</td><td>0.1440</td><td>0.4820</td><td>1.36e-05</td><td>0.0838</td><td>0.291</td><td>119.924</td><td>D </td><td>major</td><td>D major </td><td>4</td></tr>\n",
       "</tbody>\n",
       "</table>\n"
      ],
      "text/latex": [
       "A tibble: 6 × 23\n",
       "\\begin{tabular}{lllllllllllllllllllll}\n",
       " added\\_at & track.duration\\_ms & track.explicit & track.name & track.popularity & track.album.name & track.album.release\\_date & danceability & energy & key & ⋯ & speechiness & acousticness & instrumentalness & liveness & valence & tempo & key\\_name & mode\\_name & key\\_mode & time\\_signature\\\\\n",
       " <dttm> & <int> & <lgl> & <chr> & <int> & <chr> & <dttm> & <dbl> & <dbl> & <int> & ⋯ & <dbl> & <dbl> & <dbl> & <dbl> & <dbl> & <dbl> & <chr> & <chr> & <chr> & <int>\\\\\n",
       "\\hline\n",
       "\t 2022-08-06 00:01:24 & 214800 & FALSE & Good Looking         &  1 & Good Looking                  & 2017-10-20 & 0.377 & 0.558 & 4 & ⋯ & 0.0299 & 0.0789 & 3.42e-04 & 0.1250 & 0.267 & 149.971 & E  & major & E major  & 3\\\\\n",
       "\t 2022-08-06 00:04:37 & 202213 & FALSE & fOoL fOr YoU         & 65 & Mind Of Mine (Deluxe Edition) & 2016-03-25 & 0.520 & 0.513 & 7 & ⋯ & 0.0256 & 0.2810 & 0.00e+00 & 0.0976 & 0.170 &  77.903 & G  & major & G major  & 4\\\\\n",
       "\t 2022-08-06 00:17:48 & 215686 & FALSE & Every Summertime     & 77 & Every Summertime              & 2021-08-10 & 0.628 & 0.676 & 6 & ⋯ & 0.0424 & 0.3930 & 6.94e-05 & 0.0978 & 0.723 &  78.996 & F\\# & major & F\\# major & 4\\\\\n",
       "\t 2022-08-06 00:18:07 & 233337 &  TRUE & Never Be Like You    &  0 & Skin                          & 2016-05-27 & 0.443 & 0.558 & 0 & ⋯ & 0.0624 & 0.4410 & 0.00e+00 & 0.1630 & 0.248 & 116.838 & C  & major & C major  & 4\\\\\n",
       "\t 2022-08-06 00:26:55 & 164662 &  TRUE & SOMEBODY             & 68 & GABRIEL                       & 2022-03-25 & 0.649 & 0.461 & 8 & ⋯ & 0.0449 & 0.4420 & 0.00e+00 & 0.1080 & 0.487 & 141.088 & G\\# & major & G\\# major & 4\\\\\n",
       "\t 2022-08-10 04:30:57 & 257000 & FALSE & My Favourite Clothes & 66 & My Favourite Clothes          & 2018-01-06 & 0.746 & 0.339 & 2 & ⋯ & 0.1440 & 0.4820 & 1.36e-05 & 0.0838 & 0.291 & 119.924 & D  & major & D major  & 4\\\\\n",
       "\\end{tabular}\n"
      ],
      "text/markdown": [
       "\n",
       "A tibble: 6 × 23\n",
       "\n",
       "| added_at &lt;dttm&gt; | track.duration_ms &lt;int&gt; | track.explicit &lt;lgl&gt; | track.name &lt;chr&gt; | track.popularity &lt;int&gt; | track.album.name &lt;chr&gt; | track.album.release_date &lt;dttm&gt; | danceability &lt;dbl&gt; | energy &lt;dbl&gt; | key &lt;int&gt; | ⋯ ⋯ | speechiness &lt;dbl&gt; | acousticness &lt;dbl&gt; | instrumentalness &lt;dbl&gt; | liveness &lt;dbl&gt; | valence &lt;dbl&gt; | tempo &lt;dbl&gt; | key_name &lt;chr&gt; | mode_name &lt;chr&gt; | key_mode &lt;chr&gt; | time_signature &lt;int&gt; |\n",
       "|---|---|---|---|---|---|---|---|---|---|---|---|---|---|---|---|---|---|---|---|---|\n",
       "| 2022-08-06 00:01:24 | 214800 | FALSE | Good Looking         |  1 | Good Looking                  | 2017-10-20 | 0.377 | 0.558 | 4 | ⋯ | 0.0299 | 0.0789 | 3.42e-04 | 0.1250 | 0.267 | 149.971 | E  | major | E major  | 3 |\n",
       "| 2022-08-06 00:04:37 | 202213 | FALSE | fOoL fOr YoU         | 65 | Mind Of Mine (Deluxe Edition) | 2016-03-25 | 0.520 | 0.513 | 7 | ⋯ | 0.0256 | 0.2810 | 0.00e+00 | 0.0976 | 0.170 |  77.903 | G  | major | G major  | 4 |\n",
       "| 2022-08-06 00:17:48 | 215686 | FALSE | Every Summertime     | 77 | Every Summertime              | 2021-08-10 | 0.628 | 0.676 | 6 | ⋯ | 0.0424 | 0.3930 | 6.94e-05 | 0.0978 | 0.723 |  78.996 | F# | major | F# major | 4 |\n",
       "| 2022-08-06 00:18:07 | 233337 |  TRUE | Never Be Like You    |  0 | Skin                          | 2016-05-27 | 0.443 | 0.558 | 0 | ⋯ | 0.0624 | 0.4410 | 0.00e+00 | 0.1630 | 0.248 | 116.838 | C  | major | C major  | 4 |\n",
       "| 2022-08-06 00:26:55 | 164662 |  TRUE | SOMEBODY             | 68 | GABRIEL                       | 2022-03-25 | 0.649 | 0.461 | 8 | ⋯ | 0.0449 | 0.4420 | 0.00e+00 | 0.1080 | 0.487 | 141.088 | G# | major | G# major | 4 |\n",
       "| 2022-08-10 04:30:57 | 257000 | FALSE | My Favourite Clothes | 66 | My Favourite Clothes          | 2018-01-06 | 0.746 | 0.339 | 2 | ⋯ | 0.1440 | 0.4820 | 1.36e-05 | 0.0838 | 0.291 | 119.924 | D  | major | D major  | 4 |\n",
       "\n"
      ],
      "text/plain": [
       "  added_at            track.duration_ms track.explicit track.name          \n",
       "1 2022-08-06 00:01:24 214800            FALSE          Good Looking        \n",
       "2 2022-08-06 00:04:37 202213            FALSE          fOoL fOr YoU        \n",
       "3 2022-08-06 00:17:48 215686            FALSE          Every Summertime    \n",
       "4 2022-08-06 00:18:07 233337             TRUE          Never Be Like You   \n",
       "5 2022-08-06 00:26:55 164662             TRUE          SOMEBODY            \n",
       "6 2022-08-10 04:30:57 257000            FALSE          My Favourite Clothes\n",
       "  track.popularity track.album.name              track.album.release_date\n",
       "1  1               Good Looking                  2017-10-20              \n",
       "2 65               Mind Of Mine (Deluxe Edition) 2016-03-25              \n",
       "3 77               Every Summertime              2021-08-10              \n",
       "4  0               Skin                          2016-05-27              \n",
       "5 68               GABRIEL                       2022-03-25              \n",
       "6 66               My Favourite Clothes          2018-01-06              \n",
       "  danceability energy key ⋯ speechiness acousticness instrumentalness liveness\n",
       "1 0.377        0.558  4   ⋯ 0.0299      0.0789       3.42e-04         0.1250  \n",
       "2 0.520        0.513  7   ⋯ 0.0256      0.2810       0.00e+00         0.0976  \n",
       "3 0.628        0.676  6   ⋯ 0.0424      0.3930       6.94e-05         0.0978  \n",
       "4 0.443        0.558  0   ⋯ 0.0624      0.4410       0.00e+00         0.1630  \n",
       "5 0.649        0.461  8   ⋯ 0.0449      0.4420       0.00e+00         0.1080  \n",
       "6 0.746        0.339  2   ⋯ 0.1440      0.4820       1.36e-05         0.0838  \n",
       "  valence tempo   key_name mode_name key_mode time_signature\n",
       "1 0.267   149.971 E        major     E major  3             \n",
       "2 0.170    77.903 G        major     G major  4             \n",
       "3 0.723    78.996 F#       major     F# major 4             \n",
       "4 0.248   116.838 C        major     C major  4             \n",
       "5 0.487   141.088 G#       major     G# major 4             \n",
       "6 0.291   119.924 D        major     D major  4             "
      ]
     },
     "metadata": {},
     "output_type": "display_data"
    }
   ],
   "source": [
    "# Selecting only the identified columns above\n",
    "# Mutating all date/time columns from character types to date types\n",
    "shortened_y1_playlist <- y1_playlist  |>\n",
    "                select(added_at, track.duration_ms, track.explicit, track.name, track.popularity, \n",
    "                       track.album.name, track.album.release_date, danceability, energy, key, \n",
    "                       track.artists, loudness, mode, speechiness, acousticness, instrumentalness, liveness,\n",
    "                       valence, tempo, key_name, mode_name, key_mode, time_signature) |>\n",
    "                mutate(added_at = as_datetime(added_at),\n",
    "                       track.album.release_date = as_datetime(track.album.release_date))\n",
    "\n",
    "# Getting the dimensions\n",
    "dim(shortened_y1_playlist)\n",
    "\n",
    "# Getting the first six rows of our shorter data frame\n",
    "head(shortened_y1_playlist)"
   ]
  },
  {
   "cell_type": "markdown",
   "id": "ca90030b-d4ec-42fb-af72-2727f0f70a6b",
   "metadata": {},
   "source": [
    ">According to the dimensions of the data frame, there are 567 rows. However, my playlist only has 566 songs! This means there could be some overcounting involved. Let's check if there are duplicate rows:"
   ]
  },
  {
   "cell_type": "code",
   "execution_count": 78,
   "id": "981571f9-e741-4d5f-bc5d-0c584a682910",
   "metadata": {},
   "outputs": [
    {
     "data": {
      "text/html": [
       "<style>\n",
       ".list-inline {list-style: none; margin:0; padding: 0}\n",
       ".list-inline>li {display: inline-block}\n",
       ".list-inline>li:not(:last-child)::after {content: \"\\00b7\"; padding: 0 .5ex}\n",
       "</style>\n",
       "<ol class=list-inline><li>567</li><li>23</li></ol>\n"
      ],
      "text/latex": [
       "\\begin{enumerate*}\n",
       "\\item 567\n",
       "\\item 23\n",
       "\\end{enumerate*}\n"
      ],
      "text/markdown": [
       "1. 567\n",
       "2. 23\n",
       "\n",
       "\n"
      ],
      "text/plain": [
       "[1] 567  23"
      ]
     },
     "metadata": {},
     "output_type": "display_data"
    }
   ],
   "source": [
    "# Keeping only unique rows from shortened_playlist_2022 and checking if total rows become 566\n",
    "dim(distinct(shortened_y1_playlist))"
   ]
  },
  {
   "cell_type": "markdown",
   "id": "99b1c9f3-c661-4c3a-9f53-0c4eb4a59e17",
   "metadata": {},
   "source": [
    "This shows us that there were no overcounted songs, since even after removing duplicates we are left with 567 rows. To identify the source of the extra row, let's check the total NA counts of each row:"
   ]
  },
  {
   "cell_type": "code",
   "execution_count": 79,
   "id": "4d97ebb5-6a2a-4735-91d2-dc15ee3fab4a",
   "metadata": {},
   "outputs": [
    {
     "data": {
      "text/html": [
       "<table class=\"dataframe\">\n",
       "<caption>A tibble: 6 × 1</caption>\n",
       "<thead>\n",
       "\t<tr><th scope=col>na_count</th></tr>\n",
       "\t<tr><th scope=col>&lt;dbl&gt;</th></tr>\n",
       "</thead>\n",
       "<tbody>\n",
       "\t<tr><td>20</td></tr>\n",
       "\t<tr><td> 1</td></tr>\n",
       "\t<tr><td> 1</td></tr>\n",
       "\t<tr><td> 1</td></tr>\n",
       "\t<tr><td> 1</td></tr>\n",
       "\t<tr><td> 1</td></tr>\n",
       "</tbody>\n",
       "</table>\n"
      ],
      "text/latex": [
       "A tibble: 6 × 1\n",
       "\\begin{tabular}{l}\n",
       " na\\_count\\\\\n",
       " <dbl>\\\\\n",
       "\\hline\n",
       "\t 20\\\\\n",
       "\t  1\\\\\n",
       "\t  1\\\\\n",
       "\t  1\\\\\n",
       "\t  1\\\\\n",
       "\t  1\\\\\n",
       "\\end{tabular}\n"
      ],
      "text/markdown": [
       "\n",
       "A tibble: 6 × 1\n",
       "\n",
       "| na_count &lt;dbl&gt; |\n",
       "|---|\n",
       "| 20 |\n",
       "|  1 |\n",
       "|  1 |\n",
       "|  1 |\n",
       "|  1 |\n",
       "|  1 |\n",
       "\n"
      ],
      "text/plain": [
       "  na_count\n",
       "1 20      \n",
       "2  1      \n",
       "3  1      \n",
       "4  1      \n",
       "5  1      \n",
       "6  1      "
      ]
     },
     "metadata": {},
     "output_type": "display_data"
    }
   ],
   "source": [
    "# Arranging total occurances of NA's per row in descending order\n",
    "na_per_rows <- as_tibble(rowSums(is.na(shortened_y1_playlist))) |>\n",
    "            rename(na_count = value)|> arrange(- na_count)\n",
    "# Showing the 6 highest NA counts\n",
    "head(na_per_rows)"
   ]
  },
  {
   "cell_type": "markdown",
   "id": "9b4a7909-0a16-4022-af4d-c96e986d2ec1",
   "metadata": {},
   "source": [
    "Above we can see that one row in particular has 20 NA values. This is quite unusual as the highest NA values all other rows have is 1. This seems to be the row that caused the extra row count in our playlist data frame. Perhaps Spotify puts NA for songs that have been deleted from their platform. Since there is no data in the row, we can safely remove this row from our playlist data."
   ]
  },
  {
   "cell_type": "code",
   "execution_count": 82,
   "id": "ac3f81e4-ec3c-438a-af1c-616cb0d08e2d",
   "metadata": {},
   "outputs": [
    {
     "data": {
      "text/html": [
       "<style>\n",
       ".list-inline {list-style: none; margin:0; padding: 0}\n",
       ".list-inline>li {display: inline-block}\n",
       ".list-inline>li:not(:last-child)::after {content: \"\\00b7\"; padding: 0 .5ex}\n",
       "</style>\n",
       "<ol class=list-inline><li>566</li><li>23</li></ol>\n"
      ],
      "text/latex": [
       "\\begin{enumerate*}\n",
       "\\item 566\n",
       "\\item 23\n",
       "\\end{enumerate*}\n"
      ],
      "text/markdown": [
       "1. 566\n",
       "2. 23\n",
       "\n",
       "\n"
      ],
      "text/plain": [
       "[1] 566  23"
      ]
     },
     "metadata": {},
     "output_type": "display_data"
    }
   ],
   "source": [
    "shortened_y1_playlist <- shortened_y1_playlist[rowSums(is.na(shortened_y1_playlist)) != 20,]\n",
    "dim(shortened_y1_playlist)"
   ]
  },
  {
   "cell_type": "markdown",
   "id": "8bf54d09-810d-4ac7-9d66-2d6293367561",
   "metadata": {},
   "source": [
    "I will now also load my year 2 playlist which has 101 songs in it:"
   ]
  },
  {
   "cell_type": "code",
   "execution_count": 81,
   "id": "fd4cf67f-6bb6-4923-882f-770a17088f22",
   "metadata": {
    "scrolled": true
   },
   "outputs": [
    {
     "data": {
      "text/html": [
       "<style>\n",
       ".list-inline {list-style: none; margin:0; padding: 0}\n",
       ".list-inline>li {display: inline-block}\n",
       ".list-inline>li:not(:last-child)::after {content: \"\\00b7\"; padding: 0 .5ex}\n",
       "</style>\n",
       "<ol class=list-inline><li>101</li><li>23</li></ol>\n"
      ],
      "text/latex": [
       "\\begin{enumerate*}\n",
       "\\item 101\n",
       "\\item 23\n",
       "\\end{enumerate*}\n"
      ],
      "text/markdown": [
       "1. 101\n",
       "2. 23\n",
       "\n",
       "\n"
      ],
      "text/plain": [
       "[1] 101  23"
      ]
     },
     "metadata": {},
     "output_type": "display_data"
    },
    {
     "data": {
      "text/html": [
       "<table class=\"dataframe\">\n",
       "<caption>A tibble: 6 × 23</caption>\n",
       "<thead>\n",
       "\t<tr><th scope=col>added_at</th><th scope=col>track.duration_ms</th><th scope=col>track.explicit</th><th scope=col>track.name</th><th scope=col>track.popularity</th><th scope=col>track.album.name</th><th scope=col>track.album.release_date</th><th scope=col>danceability</th><th scope=col>energy</th><th scope=col>key</th><th scope=col>⋯</th><th scope=col>speechiness</th><th scope=col>acousticness</th><th scope=col>instrumentalness</th><th scope=col>liveness</th><th scope=col>valence</th><th scope=col>tempo</th><th scope=col>key_name</th><th scope=col>mode_name</th><th scope=col>key_mode</th><th scope=col>time_signature</th></tr>\n",
       "\t<tr><th scope=col>&lt;dttm&gt;</th><th scope=col>&lt;int&gt;</th><th scope=col>&lt;lgl&gt;</th><th scope=col>&lt;chr&gt;</th><th scope=col>&lt;int&gt;</th><th scope=col>&lt;chr&gt;</th><th scope=col>&lt;dttm&gt;</th><th scope=col>&lt;dbl&gt;</th><th scope=col>&lt;dbl&gt;</th><th scope=col>&lt;int&gt;</th><th scope=col>⋯</th><th scope=col>&lt;dbl&gt;</th><th scope=col>&lt;dbl&gt;</th><th scope=col>&lt;dbl&gt;</th><th scope=col>&lt;dbl&gt;</th><th scope=col>&lt;dbl&gt;</th><th scope=col>&lt;dbl&gt;</th><th scope=col>&lt;chr&gt;</th><th scope=col>&lt;chr&gt;</th><th scope=col>&lt;chr&gt;</th><th scope=col>&lt;int&gt;</th></tr>\n",
       "</thead>\n",
       "<tbody>\n",
       "\t<tr><td>2023-12-10 18:03:34</td><td>215555</td><td>FALSE</td><td>Listerine          </td><td>59</td><td>Fuzzybrain                        </td><td>2019-11-14</td><td>0.694</td><td>0.583</td><td>11</td><td>⋯</td><td>0.0371</td><td>0.1700</td><td>8.20e-01</td><td>0.3290</td><td>0.897</td><td>134.999</td><td>B </td><td>major</td><td>B major </td><td>4</td></tr>\n",
       "\t<tr><td>2023-12-10 18:03:48</td><td>201857</td><td>FALSE</td><td>out 4 a breather   </td><td>46</td><td>I AM JUST A BOY LEAVE ME ALONE !!!</td><td>2021-03-19</td><td>0.680</td><td>0.529</td><td> 5</td><td>⋯</td><td>0.0285</td><td>0.3310</td><td>1.46e-02</td><td>0.1370</td><td>0.690</td><td>127.024</td><td>F </td><td>major</td><td>F major </td><td>4</td></tr>\n",
       "\t<tr><td>2023-12-15 13:29:11</td><td>278906</td><td> TRUE</td><td>Trouble In Town    </td><td>49</td><td>Everyday Life                     </td><td>2019-11-22</td><td>0.595</td><td>0.315</td><td> 2</td><td>⋯</td><td>0.0296</td><td>0.4270</td><td>6.48e-01</td><td>0.1110</td><td>0.336</td><td> 96.018</td><td>D </td><td>minor</td><td>D minor </td><td>4</td></tr>\n",
       "\t<tr><td>2023-12-21 15:40:15</td><td>200961</td><td>FALSE</td><td>Fiona              </td><td>41</td><td>What's Your Motive                </td><td>2023-09-08</td><td>0.764</td><td>0.588</td><td>10</td><td>⋯</td><td>0.0343</td><td>0.0569</td><td>2.57e-06</td><td>0.0519</td><td>0.877</td><td>112.011</td><td>A#</td><td>minor</td><td>A# minor</td><td>4</td></tr>\n",
       "\t<tr><td>2023-12-22 03:36:04</td><td>231680</td><td> TRUE</td><td>Juno               </td><td>52</td><td>Honeybloom                        </td><td>2018-08-03</td><td>0.438</td><td>0.266</td><td> 7</td><td>⋯</td><td>0.0363</td><td>0.9220</td><td>2.98e-04</td><td>0.1480</td><td>0.116</td><td>120.075</td><td>G </td><td>major</td><td>G major </td><td>4</td></tr>\n",
       "\t<tr><td>2024-01-03 00:22:13</td><td>205554</td><td>FALSE</td><td>I Hope to Be Around</td><td>59</td><td>I Hope to Be Around               </td><td>2017-11-10</td><td>0.821</td><td>0.384</td><td>11</td><td>⋯</td><td>0.0388</td><td>0.7800</td><td>1.38e-03</td><td>0.1100</td><td>0.790</td><td> 87.978</td><td>B </td><td>major</td><td>B major </td><td>4</td></tr>\n",
       "</tbody>\n",
       "</table>\n"
      ],
      "text/latex": [
       "A tibble: 6 × 23\n",
       "\\begin{tabular}{lllllllllllllllllllll}\n",
       " added\\_at & track.duration\\_ms & track.explicit & track.name & track.popularity & track.album.name & track.album.release\\_date & danceability & energy & key & ⋯ & speechiness & acousticness & instrumentalness & liveness & valence & tempo & key\\_name & mode\\_name & key\\_mode & time\\_signature\\\\\n",
       " <dttm> & <int> & <lgl> & <chr> & <int> & <chr> & <dttm> & <dbl> & <dbl> & <int> & ⋯ & <dbl> & <dbl> & <dbl> & <dbl> & <dbl> & <dbl> & <chr> & <chr> & <chr> & <int>\\\\\n",
       "\\hline\n",
       "\t 2023-12-10 18:03:34 & 215555 & FALSE & Listerine           & 59 & Fuzzybrain                         & 2019-11-14 & 0.694 & 0.583 & 11 & ⋯ & 0.0371 & 0.1700 & 8.20e-01 & 0.3290 & 0.897 & 134.999 & B  & major & B major  & 4\\\\\n",
       "\t 2023-12-10 18:03:48 & 201857 & FALSE & out 4 a breather    & 46 & I AM JUST A BOY LEAVE ME ALONE !!! & 2021-03-19 & 0.680 & 0.529 &  5 & ⋯ & 0.0285 & 0.3310 & 1.46e-02 & 0.1370 & 0.690 & 127.024 & F  & major & F major  & 4\\\\\n",
       "\t 2023-12-15 13:29:11 & 278906 &  TRUE & Trouble In Town     & 49 & Everyday Life                      & 2019-11-22 & 0.595 & 0.315 &  2 & ⋯ & 0.0296 & 0.4270 & 6.48e-01 & 0.1110 & 0.336 &  96.018 & D  & minor & D minor  & 4\\\\\n",
       "\t 2023-12-21 15:40:15 & 200961 & FALSE & Fiona               & 41 & What's Your Motive                 & 2023-09-08 & 0.764 & 0.588 & 10 & ⋯ & 0.0343 & 0.0569 & 2.57e-06 & 0.0519 & 0.877 & 112.011 & A\\# & minor & A\\# minor & 4\\\\\n",
       "\t 2023-12-22 03:36:04 & 231680 &  TRUE & Juno                & 52 & Honeybloom                         & 2018-08-03 & 0.438 & 0.266 &  7 & ⋯ & 0.0363 & 0.9220 & 2.98e-04 & 0.1480 & 0.116 & 120.075 & G  & major & G major  & 4\\\\\n",
       "\t 2024-01-03 00:22:13 & 205554 & FALSE & I Hope to Be Around & 59 & I Hope to Be Around                & 2017-11-10 & 0.821 & 0.384 & 11 & ⋯ & 0.0388 & 0.7800 & 1.38e-03 & 0.1100 & 0.790 &  87.978 & B  & major & B major  & 4\\\\\n",
       "\\end{tabular}\n"
      ],
      "text/markdown": [
       "\n",
       "A tibble: 6 × 23\n",
       "\n",
       "| added_at &lt;dttm&gt; | track.duration_ms &lt;int&gt; | track.explicit &lt;lgl&gt; | track.name &lt;chr&gt; | track.popularity &lt;int&gt; | track.album.name &lt;chr&gt; | track.album.release_date &lt;dttm&gt; | danceability &lt;dbl&gt; | energy &lt;dbl&gt; | key &lt;int&gt; | ⋯ ⋯ | speechiness &lt;dbl&gt; | acousticness &lt;dbl&gt; | instrumentalness &lt;dbl&gt; | liveness &lt;dbl&gt; | valence &lt;dbl&gt; | tempo &lt;dbl&gt; | key_name &lt;chr&gt; | mode_name &lt;chr&gt; | key_mode &lt;chr&gt; | time_signature &lt;int&gt; |\n",
       "|---|---|---|---|---|---|---|---|---|---|---|---|---|---|---|---|---|---|---|---|---|\n",
       "| 2023-12-10 18:03:34 | 215555 | FALSE | Listerine           | 59 | Fuzzybrain                         | 2019-11-14 | 0.694 | 0.583 | 11 | ⋯ | 0.0371 | 0.1700 | 8.20e-01 | 0.3290 | 0.897 | 134.999 | B  | major | B major  | 4 |\n",
       "| 2023-12-10 18:03:48 | 201857 | FALSE | out 4 a breather    | 46 | I AM JUST A BOY LEAVE ME ALONE !!! | 2021-03-19 | 0.680 | 0.529 |  5 | ⋯ | 0.0285 | 0.3310 | 1.46e-02 | 0.1370 | 0.690 | 127.024 | F  | major | F major  | 4 |\n",
       "| 2023-12-15 13:29:11 | 278906 |  TRUE | Trouble In Town     | 49 | Everyday Life                      | 2019-11-22 | 0.595 | 0.315 |  2 | ⋯ | 0.0296 | 0.4270 | 6.48e-01 | 0.1110 | 0.336 |  96.018 | D  | minor | D minor  | 4 |\n",
       "| 2023-12-21 15:40:15 | 200961 | FALSE | Fiona               | 41 | What's Your Motive                 | 2023-09-08 | 0.764 | 0.588 | 10 | ⋯ | 0.0343 | 0.0569 | 2.57e-06 | 0.0519 | 0.877 | 112.011 | A# | minor | A# minor | 4 |\n",
       "| 2023-12-22 03:36:04 | 231680 |  TRUE | Juno                | 52 | Honeybloom                         | 2018-08-03 | 0.438 | 0.266 |  7 | ⋯ | 0.0363 | 0.9220 | 2.98e-04 | 0.1480 | 0.116 | 120.075 | G  | major | G major  | 4 |\n",
       "| 2024-01-03 00:22:13 | 205554 | FALSE | I Hope to Be Around | 59 | I Hope to Be Around                | 2017-11-10 | 0.821 | 0.384 | 11 | ⋯ | 0.0388 | 0.7800 | 1.38e-03 | 0.1100 | 0.790 |  87.978 | B  | major | B major  | 4 |\n",
       "\n"
      ],
      "text/plain": [
       "  added_at            track.duration_ms track.explicit track.name         \n",
       "1 2023-12-10 18:03:34 215555            FALSE          Listerine          \n",
       "2 2023-12-10 18:03:48 201857            FALSE          out 4 a breather   \n",
       "3 2023-12-15 13:29:11 278906             TRUE          Trouble In Town    \n",
       "4 2023-12-21 15:40:15 200961            FALSE          Fiona              \n",
       "5 2023-12-22 03:36:04 231680             TRUE          Juno               \n",
       "6 2024-01-03 00:22:13 205554            FALSE          I Hope to Be Around\n",
       "  track.popularity track.album.name                   track.album.release_date\n",
       "1 59               Fuzzybrain                         2019-11-14              \n",
       "2 46               I AM JUST A BOY LEAVE ME ALONE !!! 2021-03-19              \n",
       "3 49               Everyday Life                      2019-11-22              \n",
       "4 41               What's Your Motive                 2023-09-08              \n",
       "5 52               Honeybloom                         2018-08-03              \n",
       "6 59               I Hope to Be Around                2017-11-10              \n",
       "  danceability energy key ⋯ speechiness acousticness instrumentalness liveness\n",
       "1 0.694        0.583  11  ⋯ 0.0371      0.1700       8.20e-01         0.3290  \n",
       "2 0.680        0.529   5  ⋯ 0.0285      0.3310       1.46e-02         0.1370  \n",
       "3 0.595        0.315   2  ⋯ 0.0296      0.4270       6.48e-01         0.1110  \n",
       "4 0.764        0.588  10  ⋯ 0.0343      0.0569       2.57e-06         0.0519  \n",
       "5 0.438        0.266   7  ⋯ 0.0363      0.9220       2.98e-04         0.1480  \n",
       "6 0.821        0.384  11  ⋯ 0.0388      0.7800       1.38e-03         0.1100  \n",
       "  valence tempo   key_name mode_name key_mode time_signature\n",
       "1 0.897   134.999 B        major     B major  4             \n",
       "2 0.690   127.024 F        major     F major  4             \n",
       "3 0.336    96.018 D        minor     D minor  4             \n",
       "4 0.877   112.011 A#       minor     A# minor 4             \n",
       "5 0.116   120.075 G        major     G major  4             \n",
       "6 0.790    87.978 B        major     B major  4             "
      ]
     },
     "metadata": {},
     "output_type": "display_data"
    }
   ],
   "source": [
    "playlist_id <- \"6paPUoyazZ2SkgZ5HkYpoW\"\n",
    "shortened_y2_playlist <- get_playlist_audio_features(username, playlist_id) |>\n",
    "                select(added_at, track.duration_ms, track.explicit, track.name, track.popularity, \n",
    "                       track.album.name, track.album.release_date, danceability, energy, key, \n",
    "                       track.artists, loudness, mode, speechiness, acousticness, instrumentalness, liveness,\n",
    "                       valence, tempo, key_name, mode_name, key_mode, time_signature) |>\n",
    "                 mutate(added_at = as_datetime(added_at),\n",
    "                        track.album.release_date = as_datetime(track.album.release_date))\n",
    "\n",
    "# Getting dimensions and last 6 rows of the y2 playlist\n",
    "dim(shortened_y2_playlist)\n",
    "tail(shortened_y2_playlist)\n"
   ]
  },
  {
   "cell_type": "markdown",
   "id": "6b8096bd-17e4-47c1-9038-aff1b4802256",
   "metadata": {},
   "source": [
    "### A Visual Analysis"
   ]
  },
  {
   "cell_type": "code",
   "execution_count": null,
   "id": "20273305-b28b-4eaf-8075-44b9cc8848b6",
   "metadata": {},
   "outputs": [],
   "source": []
  },
  {
   "cell_type": "code",
   "execution_count": null,
   "id": "f587019f-c38b-441d-8fce-0e78d838bc8a",
   "metadata": {},
   "outputs": [],
   "source": []
  }
 ],
 "metadata": {
  "kernelspec": {
   "display_name": "R",
   "language": "R",
   "name": "ir"
  },
  "language_info": {
   "codemirror_mode": "r",
   "file_extension": ".r",
   "mimetype": "text/x-r-source",
   "name": "R",
   "pygments_lexer": "r",
   "version": "4.3.1"
  }
 },
 "nbformat": 4,
 "nbformat_minor": 5
}
