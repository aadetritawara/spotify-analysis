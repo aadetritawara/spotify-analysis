{
 "cells": [
  {
   "cell_type": "markdown",
   "id": "31179c07-e2ab-442e-8544-f30c77c5bbd5",
   "metadata": {},
   "source": [
    "# Spotify Analysis"
   ]
  },
  {
   "cell_type": "code",
   "execution_count": null,
   "id": "af3fb0a0-137c-4681-8a3a-5de89ad846da",
   "metadata": {},
   "outputs": [],
   "source": []
  }
 ],
 "metadata": {
  "kernelspec": {
   "display_name": "R",
   "language": "R",
   "name": "ir"
  },
  "language_info": {
   "codemirror_mode": "r",
   "file_extension": ".r",
   "mimetype": "text/x-r-source",
   "name": "R",
   "pygments_lexer": "r",
   "version": "4.3.1"
  }
 },
 "nbformat": 4,
 "nbformat_minor": 5
}
